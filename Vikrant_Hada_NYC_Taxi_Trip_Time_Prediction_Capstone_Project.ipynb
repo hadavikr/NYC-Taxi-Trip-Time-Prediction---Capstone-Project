{
  "nbformat": 4,
  "nbformat_minor": 0,
  "metadata": {
    "colab": {
      "name": "Vikrant Hada - NYC Taxi Trip Time Prediction - Capstone Project.ipynb",
      "provenance": [],
      "collapsed_sections": [],
      "authorship_tag": "ABX9TyOsrmQabhTjl/TC3AqDmK9M",
      "include_colab_link": true
    },
    "kernelspec": {
      "name": "python3",
      "display_name": "Python 3"
    },
    "language_info": {
      "name": "python"
    }
  },
  "cells": [
    {
      "cell_type": "markdown",
      "metadata": {
        "id": "view-in-github",
        "colab_type": "text"
      },
      "source": [
        "<a href=\"https://colab.research.google.com/github/hadavikr/NYC-Taxi-Trip-Time-Prediction---Capstone-Project/blob/main/Vikrant_Hada_NYC_Taxi_Trip_Time_Prediction_Capstone_Project.ipynb\" target=\"_parent\"><img src=\"https://colab.research.google.com/assets/colab-badge.svg\" alt=\"Open In Colab\"/></a>"
      ]
    },
    {
      "cell_type": "markdown",
      "source": [
        "# <b><u> Project Title : Taxi trip time Prediction : Predicting total ride duration of taxi trips in New York City</u></b>"
      ],
      "metadata": {
        "id": "yYYEknGooAtF"
      }
    },
    {
      "cell_type": "markdown",
      "source": [
        "## <b> Problem Description </b>\n",
        "\n",
        "### Your task is to build a model that predicts the total ride duration of taxi trips in New York City. Your primary dataset is one released by the NYC Taxi and Limousine Commission, which includes pickup time, geo-coordinates, number of passengers, and several other variables."
      ],
      "metadata": {
        "id": "95NoeleGoF2k"
      }
    },
    {
      "cell_type": "markdown",
      "source": [
        "## <b> Data Description </b>\n",
        "\n",
        "### The dataset is based on the 2016 NYC Yellow Cab trip record data made available in Big Query on Google Cloud Platform. The data was originally published by the NYC Taxi and Limousine Commission (TLC). The data was sampled and cleaned for the purposes of this project. Based on individual trip attributes, you should predict the duration of each trip in the test set.\n",
        "\n",
        "### <b>NYC Taxi Data.csv</b> - the training set (contains 1458644 trip records)\n",
        "\n",
        "\n",
        "### Data fields\n",
        "* #### id - a unique identifier for each trip\n",
        "* #### vendor_id - a code indicating the provider associated with the trip record\n",
        "* #### pickup_datetime - date and time when the meter was engaged\n",
        "* #### dropoff_datetime - date and time when the meter was disengaged\n",
        "* #### passenger_count - the number of passengers in the vehicle (driver entered value)\n",
        "* #### pickup_longitude - the longitude where the meter was engaged\n",
        "* #### pickup_latitude - the latitude where the meter was engaged\n",
        "* #### dropoff_longitude - the longitude where the meter was disengaged\n",
        "* #### dropoff_latitude - the latitude where the meter was disengaged\n",
        "* #### store_and_fwd_flag - This flag indicates whether the trip record was held in vehicle memory before sending to the vendor because the vehicle did not have a connection to the server - Y=store and forward; N=not a store and forward trip\n",
        "* #### trip_duration - duration of the trip in seconds"
      ],
      "metadata": {
        "id": "Sy0equ8qoIQ0"
      }
    },
    {
      "cell_type": "markdown",
      "source": [
        "# Objective:\n",
        "\n",
        "**To Explore various attributes and build a Predictive model that predicts the total trip duration of taxi trips in New York City.**"
      ],
      "metadata": {
        "id": "WjviM07loLWF"
      }
    },
    {
      "cell_type": "markdown",
      "source": [
        "## Architecture :-\n",
        "\n",
        "Data Preparation and Exploratory Data Analysis > Build Predictive Model using Multiple Techniques/Algorithms > Optimal Model identified through Testing and Evaluation"
      ],
      "metadata": {
        "id": "qSxFJI7ZoN8z"
      }
    },
    {
      "cell_type": "markdown",
      "source": [
        "# Importing necessary libraries & Loading Dataset"
      ],
      "metadata": {
        "id": "fQGLKqo1obPf"
      }
    },
    {
      "cell_type": "code",
      "source": [
        "#importing required packages\n",
        "\n",
        "import pandas as pd #data processing\n",
        "import numpy as np  #linear algebra\n",
        "\n",
        "#data visualisation\n",
        "import seaborn as sns \n",
        "import matplotlib.pyplot as plt\n",
        "import matplotlib.ticker as ticker\n",
        "\n",
        "\n",
        "import warnings\n",
        "warnings.simplefilter(action='ignore', category=FutureWarning)\n",
        "\n",
        "import datetime as dt"
      ],
      "metadata": {
        "id": "kWQcs1u8oNSy"
      },
      "execution_count": 1,
      "outputs": []
    },
    {
      "cell_type": "code",
      "source": [
        "from google.colab import drive\n",
        "drive.mount('/content/drive')"
      ],
      "metadata": {
        "id": "_QsIOuOtodrU",
        "colab": {
          "base_uri": "https://localhost:8080/"
        },
        "outputId": "f847e204-ac29-454f-e3c5-731e1db31ed7"
      },
      "execution_count": 2,
      "outputs": [
        {
          "output_type": "stream",
          "name": "stdout",
          "text": [
            "Mounted at /content/drive\n"
          ]
        }
      ]
    },
    {
      "cell_type": "markdown",
      "source": [
        "## Reading the dataset"
      ],
      "metadata": {
        "id": "thFr30xqorOM"
      }
    },
    {
      "cell_type": "code",
      "source": [
        "df = pd.read_csv('/content/drive/MyDrive/ML- NYC Taxi /Copy of NYC Taxi Data.csv')\n",
        "df.head()"
      ],
      "metadata": {
        "id": "bhvPwciEop2L",
        "colab": {
          "base_uri": "https://localhost:8080/",
          "height": 206
        },
        "outputId": "3fef0f56-b398-4cc8-de95-3193db914b30"
      },
      "execution_count": 3,
      "outputs": [
        {
          "output_type": "execute_result",
          "data": {
            "text/plain": [
              "          id  vendor_id      pickup_datetime     dropoff_datetime  \\\n",
              "0  id2875421          2  2016-03-14 17:24:55  2016-03-14 17:32:30   \n",
              "1  id2377394          1  2016-06-12 00:43:35  2016-06-12 00:54:38   \n",
              "2  id3858529          2  2016-01-19 11:35:24  2016-01-19 12:10:48   \n",
              "3  id3504673          2  2016-04-06 19:32:31  2016-04-06 19:39:40   \n",
              "4  id2181028          2  2016-03-26 13:30:55  2016-03-26 13:38:10   \n",
              "\n",
              "   passenger_count  pickup_longitude  pickup_latitude  dropoff_longitude  \\\n",
              "0                1        -73.982155        40.767937         -73.964630   \n",
              "1                1        -73.980415        40.738564         -73.999481   \n",
              "2                1        -73.979027        40.763939         -74.005333   \n",
              "3                1        -74.010040        40.719971         -74.012268   \n",
              "4                1        -73.973053        40.793209         -73.972923   \n",
              "\n",
              "   dropoff_latitude store_and_fwd_flag  trip_duration  \n",
              "0         40.765602                  N            455  \n",
              "1         40.731152                  N            663  \n",
              "2         40.710087                  N           2124  \n",
              "3         40.706718                  N            429  \n",
              "4         40.782520                  N            435  "
            ],
            "text/html": [
              "\n",
              "  <div id=\"df-b80f86c5-f67c-4ecc-9e99-00ed35930c17\">\n",
              "    <div class=\"colab-df-container\">\n",
              "      <div>\n",
              "<style scoped>\n",
              "    .dataframe tbody tr th:only-of-type {\n",
              "        vertical-align: middle;\n",
              "    }\n",
              "\n",
              "    .dataframe tbody tr th {\n",
              "        vertical-align: top;\n",
              "    }\n",
              "\n",
              "    .dataframe thead th {\n",
              "        text-align: right;\n",
              "    }\n",
              "</style>\n",
              "<table border=\"1\" class=\"dataframe\">\n",
              "  <thead>\n",
              "    <tr style=\"text-align: right;\">\n",
              "      <th></th>\n",
              "      <th>id</th>\n",
              "      <th>vendor_id</th>\n",
              "      <th>pickup_datetime</th>\n",
              "      <th>dropoff_datetime</th>\n",
              "      <th>passenger_count</th>\n",
              "      <th>pickup_longitude</th>\n",
              "      <th>pickup_latitude</th>\n",
              "      <th>dropoff_longitude</th>\n",
              "      <th>dropoff_latitude</th>\n",
              "      <th>store_and_fwd_flag</th>\n",
              "      <th>trip_duration</th>\n",
              "    </tr>\n",
              "  </thead>\n",
              "  <tbody>\n",
              "    <tr>\n",
              "      <th>0</th>\n",
              "      <td>id2875421</td>\n",
              "      <td>2</td>\n",
              "      <td>2016-03-14 17:24:55</td>\n",
              "      <td>2016-03-14 17:32:30</td>\n",
              "      <td>1</td>\n",
              "      <td>-73.982155</td>\n",
              "      <td>40.767937</td>\n",
              "      <td>-73.964630</td>\n",
              "      <td>40.765602</td>\n",
              "      <td>N</td>\n",
              "      <td>455</td>\n",
              "    </tr>\n",
              "    <tr>\n",
              "      <th>1</th>\n",
              "      <td>id2377394</td>\n",
              "      <td>1</td>\n",
              "      <td>2016-06-12 00:43:35</td>\n",
              "      <td>2016-06-12 00:54:38</td>\n",
              "      <td>1</td>\n",
              "      <td>-73.980415</td>\n",
              "      <td>40.738564</td>\n",
              "      <td>-73.999481</td>\n",
              "      <td>40.731152</td>\n",
              "      <td>N</td>\n",
              "      <td>663</td>\n",
              "    </tr>\n",
              "    <tr>\n",
              "      <th>2</th>\n",
              "      <td>id3858529</td>\n",
              "      <td>2</td>\n",
              "      <td>2016-01-19 11:35:24</td>\n",
              "      <td>2016-01-19 12:10:48</td>\n",
              "      <td>1</td>\n",
              "      <td>-73.979027</td>\n",
              "      <td>40.763939</td>\n",
              "      <td>-74.005333</td>\n",
              "      <td>40.710087</td>\n",
              "      <td>N</td>\n",
              "      <td>2124</td>\n",
              "    </tr>\n",
              "    <tr>\n",
              "      <th>3</th>\n",
              "      <td>id3504673</td>\n",
              "      <td>2</td>\n",
              "      <td>2016-04-06 19:32:31</td>\n",
              "      <td>2016-04-06 19:39:40</td>\n",
              "      <td>1</td>\n",
              "      <td>-74.010040</td>\n",
              "      <td>40.719971</td>\n",
              "      <td>-74.012268</td>\n",
              "      <td>40.706718</td>\n",
              "      <td>N</td>\n",
              "      <td>429</td>\n",
              "    </tr>\n",
              "    <tr>\n",
              "      <th>4</th>\n",
              "      <td>id2181028</td>\n",
              "      <td>2</td>\n",
              "      <td>2016-03-26 13:30:55</td>\n",
              "      <td>2016-03-26 13:38:10</td>\n",
              "      <td>1</td>\n",
              "      <td>-73.973053</td>\n",
              "      <td>40.793209</td>\n",
              "      <td>-73.972923</td>\n",
              "      <td>40.782520</td>\n",
              "      <td>N</td>\n",
              "      <td>435</td>\n",
              "    </tr>\n",
              "  </tbody>\n",
              "</table>\n",
              "</div>\n",
              "      <button class=\"colab-df-convert\" onclick=\"convertToInteractive('df-b80f86c5-f67c-4ecc-9e99-00ed35930c17')\"\n",
              "              title=\"Convert this dataframe to an interactive table.\"\n",
              "              style=\"display:none;\">\n",
              "        \n",
              "  <svg xmlns=\"http://www.w3.org/2000/svg\" height=\"24px\"viewBox=\"0 0 24 24\"\n",
              "       width=\"24px\">\n",
              "    <path d=\"M0 0h24v24H0V0z\" fill=\"none\"/>\n",
              "    <path d=\"M18.56 5.44l.94 2.06.94-2.06 2.06-.94-2.06-.94-.94-2.06-.94 2.06-2.06.94zm-11 1L8.5 8.5l.94-2.06 2.06-.94-2.06-.94L8.5 2.5l-.94 2.06-2.06.94zm10 10l.94 2.06.94-2.06 2.06-.94-2.06-.94-.94-2.06-.94 2.06-2.06.94z\"/><path d=\"M17.41 7.96l-1.37-1.37c-.4-.4-.92-.59-1.43-.59-.52 0-1.04.2-1.43.59L10.3 9.45l-7.72 7.72c-.78.78-.78 2.05 0 2.83L4 21.41c.39.39.9.59 1.41.59.51 0 1.02-.2 1.41-.59l7.78-7.78 2.81-2.81c.8-.78.8-2.07 0-2.86zM5.41 20L4 18.59l7.72-7.72 1.47 1.35L5.41 20z\"/>\n",
              "  </svg>\n",
              "      </button>\n",
              "      \n",
              "  <style>\n",
              "    .colab-df-container {\n",
              "      display:flex;\n",
              "      flex-wrap:wrap;\n",
              "      gap: 12px;\n",
              "    }\n",
              "\n",
              "    .colab-df-convert {\n",
              "      background-color: #E8F0FE;\n",
              "      border: none;\n",
              "      border-radius: 50%;\n",
              "      cursor: pointer;\n",
              "      display: none;\n",
              "      fill: #1967D2;\n",
              "      height: 32px;\n",
              "      padding: 0 0 0 0;\n",
              "      width: 32px;\n",
              "    }\n",
              "\n",
              "    .colab-df-convert:hover {\n",
              "      background-color: #E2EBFA;\n",
              "      box-shadow: 0px 1px 2px rgba(60, 64, 67, 0.3), 0px 1px 3px 1px rgba(60, 64, 67, 0.15);\n",
              "      fill: #174EA6;\n",
              "    }\n",
              "\n",
              "    [theme=dark] .colab-df-convert {\n",
              "      background-color: #3B4455;\n",
              "      fill: #D2E3FC;\n",
              "    }\n",
              "\n",
              "    [theme=dark] .colab-df-convert:hover {\n",
              "      background-color: #434B5C;\n",
              "      box-shadow: 0px 1px 3px 1px rgba(0, 0, 0, 0.15);\n",
              "      filter: drop-shadow(0px 1px 2px rgba(0, 0, 0, 0.3));\n",
              "      fill: #FFFFFF;\n",
              "    }\n",
              "  </style>\n",
              "\n",
              "      <script>\n",
              "        const buttonEl =\n",
              "          document.querySelector('#df-b80f86c5-f67c-4ecc-9e99-00ed35930c17 button.colab-df-convert');\n",
              "        buttonEl.style.display =\n",
              "          google.colab.kernel.accessAllowed ? 'block' : 'none';\n",
              "\n",
              "        async function convertToInteractive(key) {\n",
              "          const element = document.querySelector('#df-b80f86c5-f67c-4ecc-9e99-00ed35930c17');\n",
              "          const dataTable =\n",
              "            await google.colab.kernel.invokeFunction('convertToInteractive',\n",
              "                                                     [key], {});\n",
              "          if (!dataTable) return;\n",
              "\n",
              "          const docLinkHtml = 'Like what you see? Visit the ' +\n",
              "            '<a target=\"_blank\" href=https://colab.research.google.com/notebooks/data_table.ipynb>data table notebook</a>'\n",
              "            + ' to learn more about interactive tables.';\n",
              "          element.innerHTML = '';\n",
              "          dataTable['output_type'] = 'display_data';\n",
              "          await google.colab.output.renderOutput(dataTable, element);\n",
              "          const docLink = document.createElement('div');\n",
              "          docLink.innerHTML = docLinkHtml;\n",
              "          element.appendChild(docLink);\n",
              "        }\n",
              "      </script>\n",
              "    </div>\n",
              "  </div>\n",
              "  "
            ]
          },
          "metadata": {},
          "execution_count": 3
        }
      ]
    },
    {
      "cell_type": "code",
      "source": [
        "#Shape of data \n",
        "\n",
        "print ('No. of Examples(rows): ',df.shape[0])\n",
        "print ('No. of Features(columns) : ', df.shape[1])"
      ],
      "metadata": {
        "id": "46NUBD1eozwL",
        "colab": {
          "base_uri": "https://localhost:8080/"
        },
        "outputId": "2679ee9d-9f35-42bb-fd32-b00ee80be309"
      },
      "execution_count": 4,
      "outputs": [
        {
          "output_type": "stream",
          "name": "stdout",
          "text": [
            "No. of Examples(rows):  1458644\n",
            "No. of Features(columns) :  11\n"
          ]
        }
      ]
    },
    {
      "cell_type": "code",
      "source": [
        "#Columns in our data\n",
        "\n",
        "df.columns"
      ],
      "metadata": {
        "id": "foEXkEC5o-pH",
        "colab": {
          "base_uri": "https://localhost:8080/"
        },
        "outputId": "5ddc7947-5d37-4c15-b747-becd8085cc53"
      },
      "execution_count": 5,
      "outputs": [
        {
          "output_type": "execute_result",
          "data": {
            "text/plain": [
              "Index(['id', 'vendor_id', 'pickup_datetime', 'dropoff_datetime',\n",
              "       'passenger_count', 'pickup_longitude', 'pickup_latitude',\n",
              "       'dropoff_longitude', 'dropoff_latitude', 'store_and_fwd_flag',\n",
              "       'trip_duration'],\n",
              "      dtype='object')"
            ]
          },
          "metadata": {},
          "execution_count": 5
        }
      ]
    },
    {
      "cell_type": "markdown",
      "source": [
        "**Independent Variables**\n",
        "\n",
        "\n",
        "- id — a unique identifier for each trip\n",
        "- vendor_id — a code indicating the provider associated with the trip record\n",
        "- pickup_datetime — date and time when the meter was engaged\n",
        "- dropoff_datetime — date and time when the meter was disengaged\n",
        "- passenger_count — the number of passengers in the vehicle (driver entered value)\n",
        "- pickup_longitude — the longitude where the meter was engaged\n",
        "- pickup_latitude — the latitude where the meter was engaged\n",
        "- dropoff_longitude — the longitude where the meter was disengaged\n",
        "- dropoff_latitude — the latitude where the meter was disengaged\n",
        "- store_and_fwd_flag — This flag indicates whether the trip record was held in vehicle memory before sending to the vendor because the vehicle did not have a connection to the server — Y=store and forward; N=not a store and forward trip.\n",
        "\n",
        "**Target Variable**\n",
        "- trip_duration — duration of the trip in seconds"
      ],
      "metadata": {
        "id": "HHnEZK16pFh5"
      }
    },
    {
      "cell_type": "markdown",
      "source": [
        "#  Data Cleaning\n",
        " Checking for Dtype and Null Values"
      ],
      "metadata": {
        "id": "w1zx-KT0pIe-"
      }
    },
    {
      "cell_type": "code",
      "source": [
        "df.info() #Attribute information"
      ],
      "metadata": {
        "id": "_zWrcD59pBW6",
        "colab": {
          "base_uri": "https://localhost:8080/"
        },
        "outputId": "46252448-774b-4fab-c04f-d132ba782a44"
      },
      "execution_count": 6,
      "outputs": [
        {
          "output_type": "stream",
          "name": "stdout",
          "text": [
            "<class 'pandas.core.frame.DataFrame'>\n",
            "RangeIndex: 1458644 entries, 0 to 1458643\n",
            "Data columns (total 11 columns):\n",
            " #   Column              Non-Null Count    Dtype  \n",
            "---  ------              --------------    -----  \n",
            " 0   id                  1458644 non-null  object \n",
            " 1   vendor_id           1458644 non-null  int64  \n",
            " 2   pickup_datetime     1458644 non-null  object \n",
            " 3   dropoff_datetime    1458644 non-null  object \n",
            " 4   passenger_count     1458644 non-null  int64  \n",
            " 5   pickup_longitude    1458644 non-null  float64\n",
            " 6   pickup_latitude     1458644 non-null  float64\n",
            " 7   dropoff_longitude   1458644 non-null  float64\n",
            " 8   dropoff_latitude    1458644 non-null  float64\n",
            " 9   store_and_fwd_flag  1458644 non-null  object \n",
            " 10  trip_duration       1458644 non-null  int64  \n",
            "dtypes: float64(4), int64(3), object(4)\n",
            "memory usage: 122.4+ MB\n"
          ]
        }
      ]
    },
    {
      "cell_type": "markdown",
      "source": [
        " - We have id, pickup_datetime, dropoff_datetime, and store_and_fwd_flag of the type ‘object’.\n",
        " - vendor_id, passenger_count, and trip_duration are of type int.\n",
        " - pickup_longitude, pickup_latitude, dropoff_longitude, and dropoff_latitude are of type float."
      ],
      "metadata": {
        "id": "WfP9jWgppNds"
      }
    },
    {
      "cell_type": "code",
      "source": [
        "df.duplicated().sum()   #Checking for Duplicated rows"
      ],
      "metadata": {
        "id": "3ovbMuo0pQAa",
        "colab": {
          "base_uri": "https://localhost:8080/"
        },
        "outputId": "71594eda-4160-4bfa-e751-658dd0f798b0"
      },
      "execution_count": 7,
      "outputs": [
        {
          "output_type": "execute_result",
          "data": {
            "text/plain": [
              "0"
            ]
          },
          "metadata": {},
          "execution_count": 7
        }
      ]
    },
    {
      "cell_type": "code",
      "source": [
        "df.isnull().sum() #checking for missing values"
      ],
      "metadata": {
        "id": "flwynB_rpRnE",
        "colab": {
          "base_uri": "https://localhost:8080/"
        },
        "outputId": "631bf7b0-24c5-4bb1-deb9-c7dbe553817e"
      },
      "execution_count": 8,
      "outputs": [
        {
          "output_type": "execute_result",
          "data": {
            "text/plain": [
              "id                    0\n",
              "vendor_id             0\n",
              "pickup_datetime       0\n",
              "dropoff_datetime      0\n",
              "passenger_count       0\n",
              "pickup_longitude      0\n",
              "pickup_latitude       0\n",
              "dropoff_longitude     0\n",
              "dropoff_latitude      0\n",
              "store_and_fwd_flag    0\n",
              "trip_duration         0\n",
              "dtype: int64"
            ]
          },
          "metadata": {},
          "execution_count": 8
        }
      ]
    },
    {
      "cell_type": "markdown",
      "source": [
        "As we can see there is no null or missing values in our data set which saves us a step of imputing.\n",
        "\n",
        "Now Let us check for unique values of all columns."
      ],
      "metadata": {
        "id": "jRyNArEUpUxe"
      }
    },
    {
      "cell_type": "code",
      "source": [
        "print(df.nunique().sort_values()) #Checking for unique values"
      ],
      "metadata": {
        "id": "xVodwPWPpXl1",
        "colab": {
          "base_uri": "https://localhost:8080/"
        },
        "outputId": "f4104b2f-1cda-481b-e0bf-359fa454c78f"
      },
      "execution_count": 9,
      "outputs": [
        {
          "output_type": "stream",
          "name": "stdout",
          "text": [
            "vendor_id                   2\n",
            "store_and_fwd_flag          2\n",
            "passenger_count            10\n",
            "trip_duration            7417\n",
            "pickup_longitude        23047\n",
            "dropoff_longitude       33821\n",
            "pickup_latitude         45245\n",
            "dropoff_latitude        62519\n",
            "pickup_datetime       1380222\n",
            "dropoff_datetime      1380377\n",
            "id                    1458644\n",
            "dtype: int64\n"
          ]
        }
      ]
    },
    {
      "cell_type": "markdown",
      "source": [
        "[link text](https://)\n",
        "*   We see that id has 1458644 unique values which are equal to the number of rows in our dataset. \n",
        "*   There are 2 unique vendor ids.\n",
        "*   There are 10 unique passenger counts.\n",
        "*   There are 2 unique values for store_and_fwd_flag, that we also saw in the description of the variables, which are Y and N.\n",
        "\n"
      ],
      "metadata": {
        "id": "bolEzQsTpfs0"
      }
    },
    {
      "cell_type": "code",
      "source": [
        "df.describe() #statistical summary of our data set for numeric data column"
      ],
      "metadata": {
        "id": "L0qnuKPhpikb",
        "colab": {
          "base_uri": "https://localhost:8080/",
          "height": 300
        },
        "outputId": "ce4afeda-f337-4203-c567-f17d06a6924b"
      },
      "execution_count": 10,
      "outputs": [
        {
          "output_type": "execute_result",
          "data": {
            "text/plain": [
              "          vendor_id  passenger_count  pickup_longitude  pickup_latitude  \\\n",
              "count  1.458644e+06     1.458644e+06      1.458644e+06     1.458644e+06   \n",
              "mean   1.534950e+00     1.664530e+00     -7.397349e+01     4.075092e+01   \n",
              "std    4.987772e-01     1.314242e+00      7.090186e-02     3.288119e-02   \n",
              "min    1.000000e+00     0.000000e+00     -1.219333e+02     3.435970e+01   \n",
              "25%    1.000000e+00     1.000000e+00     -7.399187e+01     4.073735e+01   \n",
              "50%    2.000000e+00     1.000000e+00     -7.398174e+01     4.075410e+01   \n",
              "75%    2.000000e+00     2.000000e+00     -7.396733e+01     4.076836e+01   \n",
              "max    2.000000e+00     9.000000e+00     -6.133553e+01     5.188108e+01   \n",
              "\n",
              "       dropoff_longitude  dropoff_latitude  trip_duration  \n",
              "count       1.458644e+06      1.458644e+06   1.458644e+06  \n",
              "mean       -7.397342e+01      4.075180e+01   9.594923e+02  \n",
              "std         7.064327e-02      3.589056e-02   5.237432e+03  \n",
              "min        -1.219333e+02      3.218114e+01   1.000000e+00  \n",
              "25%        -7.399133e+01      4.073588e+01   3.970000e+02  \n",
              "50%        -7.397975e+01      4.075452e+01   6.620000e+02  \n",
              "75%        -7.396301e+01      4.076981e+01   1.075000e+03  \n",
              "max        -6.133553e+01      4.392103e+01   3.526282e+06  "
            ],
            "text/html": [
              "\n",
              "  <div id=\"df-6578826f-0ac7-4f4f-9b16-723938510b36\">\n",
              "    <div class=\"colab-df-container\">\n",
              "      <div>\n",
              "<style scoped>\n",
              "    .dataframe tbody tr th:only-of-type {\n",
              "        vertical-align: middle;\n",
              "    }\n",
              "\n",
              "    .dataframe tbody tr th {\n",
              "        vertical-align: top;\n",
              "    }\n",
              "\n",
              "    .dataframe thead th {\n",
              "        text-align: right;\n",
              "    }\n",
              "</style>\n",
              "<table border=\"1\" class=\"dataframe\">\n",
              "  <thead>\n",
              "    <tr style=\"text-align: right;\">\n",
              "      <th></th>\n",
              "      <th>vendor_id</th>\n",
              "      <th>passenger_count</th>\n",
              "      <th>pickup_longitude</th>\n",
              "      <th>pickup_latitude</th>\n",
              "      <th>dropoff_longitude</th>\n",
              "      <th>dropoff_latitude</th>\n",
              "      <th>trip_duration</th>\n",
              "    </tr>\n",
              "  </thead>\n",
              "  <tbody>\n",
              "    <tr>\n",
              "      <th>count</th>\n",
              "      <td>1.458644e+06</td>\n",
              "      <td>1.458644e+06</td>\n",
              "      <td>1.458644e+06</td>\n",
              "      <td>1.458644e+06</td>\n",
              "      <td>1.458644e+06</td>\n",
              "      <td>1.458644e+06</td>\n",
              "      <td>1.458644e+06</td>\n",
              "    </tr>\n",
              "    <tr>\n",
              "      <th>mean</th>\n",
              "      <td>1.534950e+00</td>\n",
              "      <td>1.664530e+00</td>\n",
              "      <td>-7.397349e+01</td>\n",
              "      <td>4.075092e+01</td>\n",
              "      <td>-7.397342e+01</td>\n",
              "      <td>4.075180e+01</td>\n",
              "      <td>9.594923e+02</td>\n",
              "    </tr>\n",
              "    <tr>\n",
              "      <th>std</th>\n",
              "      <td>4.987772e-01</td>\n",
              "      <td>1.314242e+00</td>\n",
              "      <td>7.090186e-02</td>\n",
              "      <td>3.288119e-02</td>\n",
              "      <td>7.064327e-02</td>\n",
              "      <td>3.589056e-02</td>\n",
              "      <td>5.237432e+03</td>\n",
              "    </tr>\n",
              "    <tr>\n",
              "      <th>min</th>\n",
              "      <td>1.000000e+00</td>\n",
              "      <td>0.000000e+00</td>\n",
              "      <td>-1.219333e+02</td>\n",
              "      <td>3.435970e+01</td>\n",
              "      <td>-1.219333e+02</td>\n",
              "      <td>3.218114e+01</td>\n",
              "      <td>1.000000e+00</td>\n",
              "    </tr>\n",
              "    <tr>\n",
              "      <th>25%</th>\n",
              "      <td>1.000000e+00</td>\n",
              "      <td>1.000000e+00</td>\n",
              "      <td>-7.399187e+01</td>\n",
              "      <td>4.073735e+01</td>\n",
              "      <td>-7.399133e+01</td>\n",
              "      <td>4.073588e+01</td>\n",
              "      <td>3.970000e+02</td>\n",
              "    </tr>\n",
              "    <tr>\n",
              "      <th>50%</th>\n",
              "      <td>2.000000e+00</td>\n",
              "      <td>1.000000e+00</td>\n",
              "      <td>-7.398174e+01</td>\n",
              "      <td>4.075410e+01</td>\n",
              "      <td>-7.397975e+01</td>\n",
              "      <td>4.075452e+01</td>\n",
              "      <td>6.620000e+02</td>\n",
              "    </tr>\n",
              "    <tr>\n",
              "      <th>75%</th>\n",
              "      <td>2.000000e+00</td>\n",
              "      <td>2.000000e+00</td>\n",
              "      <td>-7.396733e+01</td>\n",
              "      <td>4.076836e+01</td>\n",
              "      <td>-7.396301e+01</td>\n",
              "      <td>4.076981e+01</td>\n",
              "      <td>1.075000e+03</td>\n",
              "    </tr>\n",
              "    <tr>\n",
              "      <th>max</th>\n",
              "      <td>2.000000e+00</td>\n",
              "      <td>9.000000e+00</td>\n",
              "      <td>-6.133553e+01</td>\n",
              "      <td>5.188108e+01</td>\n",
              "      <td>-6.133553e+01</td>\n",
              "      <td>4.392103e+01</td>\n",
              "      <td>3.526282e+06</td>\n",
              "    </tr>\n",
              "  </tbody>\n",
              "</table>\n",
              "</div>\n",
              "      <button class=\"colab-df-convert\" onclick=\"convertToInteractive('df-6578826f-0ac7-4f4f-9b16-723938510b36')\"\n",
              "              title=\"Convert this dataframe to an interactive table.\"\n",
              "              style=\"display:none;\">\n",
              "        \n",
              "  <svg xmlns=\"http://www.w3.org/2000/svg\" height=\"24px\"viewBox=\"0 0 24 24\"\n",
              "       width=\"24px\">\n",
              "    <path d=\"M0 0h24v24H0V0z\" fill=\"none\"/>\n",
              "    <path d=\"M18.56 5.44l.94 2.06.94-2.06 2.06-.94-2.06-.94-.94-2.06-.94 2.06-2.06.94zm-11 1L8.5 8.5l.94-2.06 2.06-.94-2.06-.94L8.5 2.5l-.94 2.06-2.06.94zm10 10l.94 2.06.94-2.06 2.06-.94-2.06-.94-.94-2.06-.94 2.06-2.06.94z\"/><path d=\"M17.41 7.96l-1.37-1.37c-.4-.4-.92-.59-1.43-.59-.52 0-1.04.2-1.43.59L10.3 9.45l-7.72 7.72c-.78.78-.78 2.05 0 2.83L4 21.41c.39.39.9.59 1.41.59.51 0 1.02-.2 1.41-.59l7.78-7.78 2.81-2.81c.8-.78.8-2.07 0-2.86zM5.41 20L4 18.59l7.72-7.72 1.47 1.35L5.41 20z\"/>\n",
              "  </svg>\n",
              "      </button>\n",
              "      \n",
              "  <style>\n",
              "    .colab-df-container {\n",
              "      display:flex;\n",
              "      flex-wrap:wrap;\n",
              "      gap: 12px;\n",
              "    }\n",
              "\n",
              "    .colab-df-convert {\n",
              "      background-color: #E8F0FE;\n",
              "      border: none;\n",
              "      border-radius: 50%;\n",
              "      cursor: pointer;\n",
              "      display: none;\n",
              "      fill: #1967D2;\n",
              "      height: 32px;\n",
              "      padding: 0 0 0 0;\n",
              "      width: 32px;\n",
              "    }\n",
              "\n",
              "    .colab-df-convert:hover {\n",
              "      background-color: #E2EBFA;\n",
              "      box-shadow: 0px 1px 2px rgba(60, 64, 67, 0.3), 0px 1px 3px 1px rgba(60, 64, 67, 0.15);\n",
              "      fill: #174EA6;\n",
              "    }\n",
              "\n",
              "    [theme=dark] .colab-df-convert {\n",
              "      background-color: #3B4455;\n",
              "      fill: #D2E3FC;\n",
              "    }\n",
              "\n",
              "    [theme=dark] .colab-df-convert:hover {\n",
              "      background-color: #434B5C;\n",
              "      box-shadow: 0px 1px 3px 1px rgba(0, 0, 0, 0.15);\n",
              "      filter: drop-shadow(0px 1px 2px rgba(0, 0, 0, 0.3));\n",
              "      fill: #FFFFFF;\n",
              "    }\n",
              "  </style>\n",
              "\n",
              "      <script>\n",
              "        const buttonEl =\n",
              "          document.querySelector('#df-6578826f-0ac7-4f4f-9b16-723938510b36 button.colab-df-convert');\n",
              "        buttonEl.style.display =\n",
              "          google.colab.kernel.accessAllowed ? 'block' : 'none';\n",
              "\n",
              "        async function convertToInteractive(key) {\n",
              "          const element = document.querySelector('#df-6578826f-0ac7-4f4f-9b16-723938510b36');\n",
              "          const dataTable =\n",
              "            await google.colab.kernel.invokeFunction('convertToInteractive',\n",
              "                                                     [key], {});\n",
              "          if (!dataTable) return;\n",
              "\n",
              "          const docLinkHtml = 'Like what you see? Visit the ' +\n",
              "            '<a target=\"_blank\" href=https://colab.research.google.com/notebooks/data_table.ipynb>data table notebook</a>'\n",
              "            + ' to learn more about interactive tables.';\n",
              "          element.innerHTML = '';\n",
              "          dataTable['output_type'] = 'display_data';\n",
              "          await google.colab.output.renderOutput(dataTable, element);\n",
              "          const docLink = document.createElement('div');\n",
              "          docLink.innerHTML = docLinkHtml;\n",
              "          element.appendChild(docLink);\n",
              "        }\n",
              "      </script>\n",
              "    </div>\n",
              "  </div>\n",
              "  "
            ]
          },
          "metadata": {},
          "execution_count": 10
        }
      ]
    },
    {
      "cell_type": "code",
      "source": [
        "#Descriptive Stats in visual form\n",
        "\n",
        "plt.figure(figsize=(25,10))\n",
        "svm = sns.heatmap(df.describe()[1:], annot=True, cmap='gist_earth',annot_kws={\"size\": 18})\n",
        "svm.set_xticklabels(svm.get_xmajorticklabels(), fontsize = 18)\n",
        "svm.set_yticklabels(svm.get_ymajorticklabels(), fontsize = 18)\n",
        "\n",
        "plt.title('Descriptive Stats')"
      ],
      "metadata": {
        "id": "oKy5xFUApkKj",
        "colab": {
          "base_uri": "https://localhost:8080/",
          "height": 634
        },
        "outputId": "64a8c2a3-2d8c-4cc5-da3c-ff2838037baa"
      },
      "execution_count": 11,
      "outputs": [
        {
          "output_type": "execute_result",
          "data": {
            "text/plain": [
              "Text(0.5, 1.0, 'Descriptive Stats')"
            ]
          },
          "metadata": {},
          "execution_count": 11
        },
        {
          "output_type": "display_data",
          "data": {
            "text/plain": [
              "<Figure size 1800x720 with 2 Axes>"
            ],
            "image/png": "[encoded data removed]"
          },
          "metadata": {
            "needs_background": "light"
          }
        }
      ]
    },
    {
      "cell_type": "markdown",
      "source": [
        "- We can observe that there were trips having 0 passengers which we can consider as false trip.\n",
        "\n",
        "\n",
        "- Also, there are trips having trip duration upto 3526282 seconds (Approx. 980 hours) which is kind of impossible in a day."
      ],
      "metadata": {
        "id": "rKmMA4Znp3K8"
      }
    },
    {
      "cell_type": "markdown",
      "source": [
        "# Feature Creation\n",
        "\n",
        " - Let us create some new features from the existing variables so that we can gain more insights from the data.\n",
        "\n",
        " - Remember pickup_datetime and dropoff_datetime were both of type object.\n",
        "If we want to make use of this data, we can convert it to datetime object which contains numerous functions with which we can create new features that we will see soon.\n"
      ],
      "metadata": {
        "id": "1WVgrZVcqDqN"
      }
    },
    {
      "cell_type": "code",
      "source": [
        "# Now will analyze this features\n",
        "#  2   pickup_datetime     1458644 non-null  object \n",
        "#  3   dropoff_datetime    1458644 non-null  object\n",
        "\n",
        "# We can convert it to datetime using the following code.\n",
        "\n",
        "df['pickup_datetime']=pd.to_datetime(df['pickup_datetime'])\n",
        "df['dropoff_datetime']=pd.to_datetime(df['dropoff_datetime'])"
      ],
      "metadata": {
        "id": "AnxJzs4sqDCr"
      },
      "execution_count": 12,
      "outputs": []
    },
    {
      "cell_type": "markdown",
      "source": [
        "Now if you will run the dtypes function again, you will be able to see the type as datetime64.\n",
        "\n",
        "Now, let us extract and create new features from this datetime features we just created."
      ],
      "metadata": {
        "id": "6ZlK09xNqKhE"
      }
    },
    {
      "cell_type": "code",
      "source": [
        "df['pickup_month'] = df['pickup_datetime'].dt.month\n",
        "df['dropoff_month']=df['dropoff_datetime'].dt.month\n",
        "\n",
        "df['pickup_hour'] = df['pickup_datetime'].dt.hour\n",
        "df['dropoff_hour']=df['dropoff_datetime'].dt.hour\n",
        "\n",
        "df['pickup_weekday'] = df['pickup_datetime'].dt.weekday\n",
        "df['dropoff_weekday']=df['dropoff_datetime'].dt.weekday\n",
        "\n",
        "df['pickup_day'] = df['pickup_datetime'].dt.day\n",
        "df['dropoff_day']=df['dropoff_datetime'].dt.day\n",
        "\n",
        "df['pickup_date'] = df['pickup_datetime'].dt.date\n",
        "\n",
        "df['pickup_min'] = df['pickup_datetime'].dt.minute\n",
        "df['dropoff_min'] = df['dropoff_datetime'].dt.minute"
      ],
      "metadata": {
        "id": "EwlJhcc6qMqK"
      },
      "execution_count": 13,
      "outputs": []
    },
    {
      "cell_type": "markdown",
      "source": [
        "- The Date and time columns in the Dataset has whole lot story to tell, we have to fetch them as separate features. \n",
        "\n",
        "\n",
        "- We do not have to extract pickup and dropoff time both, as they may lead to strong positive correlation between them. (For analysis purpose obviosly we can extract)\n",
        "\n",
        "\n",
        "- Further we can use these columns for Analysis."
      ],
      "metadata": {
        "id": "7iuR9SznqPrl"
      }
    },
    {
      "cell_type": "markdown",
      "source": [
        "Now let us apply this function and create new columns in the dataset."
      ],
      "metadata": {
        "id": "_xEEsrGOqabU"
      }
    },
    {
      "cell_type": "markdown",
      "source": [
        ""
      ],
      "metadata": {
        "id": "_IS7NSvEqeXa"
      }
    },
    {
      "cell_type": "markdown",
      "source": [
        "# Feature Engineering - Total Distance Travelled\n"
      ],
      "metadata": {
        "id": "tCAe94KQqed-"
      }
    },
    {
      "cell_type": "markdown",
      "source": [
        "Importing the library which lets us calculate distance from geographical coordinates.\n",
        "\n",
        "Source - https://stackoverflow.com/questions/24427828/calculate-point-based-on-distance-and-direction"
      ],
      "metadata": {
        "id": "LQmpJD96qgpe"
      }
    },
    {
      "cell_type": "code",
      "source": [
        "from geopy.distance import great_circle"
      ],
      "metadata": {
        "id": "68YVq7yzxGx2"
      },
      "execution_count": 14,
      "outputs": []
    },
    {
      "cell_type": "code",
      "source": [
        "#calc_distance is a function to calculate distance between pickup and dropoff coordinates.\n",
        "\n",
        "\n",
        "def cal_distance(pickup_lat,pickup_long,dropoff_lat,dropoff_long):\n",
        " \n",
        " start_coordinates=(pickup_lat,pickup_long)\n",
        " stop_coordinates=(dropoff_lat,dropoff_long)\n",
        " \n",
        " return great_circle(start_coordinates,stop_coordinates).km"
      ],
      "metadata": {
        "id": "tby4it8gxKyl"
      },
      "execution_count": 15,
      "outputs": []
    },
    {
      "cell_type": "markdown",
      "source": [
        "Finally, applying the function to our dataset and creating the feature ‘distance’."
      ],
      "metadata": {
        "id": "Y--ujNa5xSTt"
      }
    },
    {
      "cell_type": "code",
      "source": [
        "#Calculate distance and assign new column to the dataframe.\n",
        "\n",
        "df['distance'] = df.apply(lambda x: cal_distance(x['pickup_latitude'],x['pickup_longitude'],x['dropoff_latitude'],x['dropoff_longitude'] ), axis=1)"
      ],
      "metadata": {
        "id": "CvWYocXkxUt3"
      },
      "execution_count": 16,
      "outputs": []
    },
    {
      "cell_type": "code",
      "source": [
        "df.head()"
      ],
      "metadata": {
        "id": "ry9_3NwxxdA2",
        "colab": {
          "base_uri": "https://localhost:8080/",
          "height": 386
        },
        "outputId": "b685af2a-da09-4f8d-8b46-21437c0ac756"
      },
      "execution_count": 17,
      "outputs": [
        {
          "output_type": "execute_result",
          "data": {
            "text/plain": [
              "          id  vendor_id     pickup_datetime    dropoff_datetime  \\\n",
              "0  id2875421          2 2016-03-14 17:24:55 2016-03-14 17:32:30   \n",
              "1  id2377394          1 2016-06-12 00:43:35 2016-06-12 00:54:38   \n",
              "2  id3858529          2 2016-01-19 11:35:24 2016-01-19 12:10:48   \n",
              "3  id3504673          2 2016-04-06 19:32:31 2016-04-06 19:39:40   \n",
              "4  id2181028          2 2016-03-26 13:30:55 2016-03-26 13:38:10   \n",
              "\n",
              "   passenger_count  pickup_longitude  pickup_latitude  dropoff_longitude  \\\n",
              "0                1        -73.982155        40.767937         -73.964630   \n",
              "1                1        -73.980415        40.738564         -73.999481   \n",
              "2                1        -73.979027        40.763939         -74.005333   \n",
              "3                1        -74.010040        40.719971         -74.012268   \n",
              "4                1        -73.973053        40.793209         -73.972923   \n",
              "\n",
              "   dropoff_latitude store_and_fwd_flag  ...  pickup_hour  dropoff_hour  \\\n",
              "0         40.765602                  N  ...           17            17   \n",
              "1         40.731152                  N  ...            0             0   \n",
              "2         40.710087                  N  ...           11            12   \n",
              "3         40.706718                  N  ...           19            19   \n",
              "4         40.782520                  N  ...           13            13   \n",
              "\n",
              "   pickup_weekday  dropoff_weekday  pickup_day  dropoff_day  pickup_date  \\\n",
              "0               0                0          14           14   2016-03-14   \n",
              "1               6                6          12           12   2016-06-12   \n",
              "2               1                1          19           19   2016-01-19   \n",
              "3               2                2           6            6   2016-04-06   \n",
              "4               5                5          26           26   2016-03-26   \n",
              "\n",
              "   pickup_min  dropoff_min  distance  \n",
              "0          24           32  1.498523  \n",
              "1          43           54  1.805510  \n",
              "2          35           10  6.385108  \n",
              "3          32           39  1.485501  \n",
              "4          30           38  1.188590  \n",
              "\n",
              "[5 rows x 23 columns]"
            ],
            "text/html": [
              "\n",
              "  <div id=\"df-d4148709-43aa-4562-9e75-a67042466a65\">\n",
              "    <div class=\"colab-df-container\">\n",
              "      <div>\n",
              "<style scoped>\n",
              "    .dataframe tbody tr th:only-of-type {\n",
              "        vertical-align: middle;\n",
              "    }\n",
              "\n",
              "    .dataframe tbody tr th {\n",
              "        vertical-align: top;\n",
              "    }\n",
              "\n",
              "    .dataframe thead th {\n",
              "        text-align: right;\n",
              "    }\n",
              "</style>\n",
              "<table border=\"1\" class=\"dataframe\">\n",
              "  <thead>\n",
              "    <tr style=\"text-align: right;\">\n",
              "      <th></th>\n",
              "      <th>id</th>\n",
              "      <th>vendor_id</th>\n",
              "      <th>pickup_datetime</th>\n",
              "      <th>dropoff_datetime</th>\n",
              "      <th>passenger_count</th>\n",
              "      <th>pickup_longitude</th>\n",
              "      <th>pickup_latitude</th>\n",
              "      <th>dropoff_longitude</th>\n",
              "      <th>dropoff_latitude</th>\n",
              "      <th>store_and_fwd_flag</th>\n",
              "      <th>...</th>\n",
              "      <th>pickup_hour</th>\n",
              "      <th>dropoff_hour</th>\n",
              "      <th>pickup_weekday</th>\n",
              "      <th>dropoff_weekday</th>\n",
              "      <th>pickup_day</th>\n",
              "      <th>dropoff_day</th>\n",
              "      <th>pickup_date</th>\n",
              "      <th>pickup_min</th>\n",
              "      <th>dropoff_min</th>\n",
              "      <th>distance</th>\n",
              "    </tr>\n",
              "  </thead>\n",
              "  <tbody>\n",
              "    <tr>\n",
              "      <th>0</th>\n",
              "      <td>id2875421</td>\n",
              "      <td>2</td>\n",
              "      <td>2016-03-14 17:24:55</td>\n",
              "      <td>2016-03-14 17:32:30</td>\n",
              "      <td>1</td>\n",
              "      <td>-73.982155</td>\n",
              "      <td>40.767937</td>\n",
              "      <td>-73.964630</td>\n",
              "      <td>40.765602</td>\n",
              "      <td>N</td>\n",
              "      <td>...</td>\n",
              "      <td>17</td>\n",
              "      <td>17</td>\n",
              "      <td>0</td>\n",
              "      <td>0</td>\n",
              "      <td>14</td>\n",
              "      <td>14</td>\n",
              "      <td>2016-03-14</td>\n",
              "      <td>24</td>\n",
              "      <td>32</td>\n",
              "      <td>1.498523</td>\n",
              "    </tr>\n",
              "    <tr>\n",
              "      <th>1</th>\n",
              "      <td>id2377394</td>\n",
              "      <td>1</td>\n",
              "      <td>2016-06-12 00:43:35</td>\n",
              "      <td>2016-06-12 00:54:38</td>\n",
              "      <td>1</td>\n",
              "      <td>-73.980415</td>\n",
              "      <td>40.738564</td>\n",
              "      <td>-73.999481</td>\n",
              "      <td>40.731152</td>\n",
              "      <td>N</td>\n",
              "      <td>...</td>\n",
              "      <td>0</td>\n",
              "      <td>0</td>\n",
              "      <td>6</td>\n",
              "      <td>6</td>\n",
              "      <td>12</td>\n",
              "      <td>12</td>\n",
              "      <td>2016-06-12</td>\n",
              "      <td>43</td>\n",
              "      <td>54</td>\n",
              "      <td>1.805510</td>\n",
              "    </tr>\n",
              "    <tr>\n",
              "      <th>2</th>\n",
              "      <td>id3858529</td>\n",
              "      <td>2</td>\n",
              "      <td>2016-01-19 11:35:24</td>\n",
              "      <td>2016-01-19 12:10:48</td>\n",
              "      <td>1</td>\n",
              "      <td>-73.979027</td>\n",
              "      <td>40.763939</td>\n",
              "      <td>-74.005333</td>\n",
              "      <td>40.710087</td>\n",
              "      <td>N</td>\n",
              "      <td>...</td>\n",
              "      <td>11</td>\n",
              "      <td>12</td>\n",
              "      <td>1</td>\n",
              "      <td>1</td>\n",
              "      <td>19</td>\n",
              "      <td>19</td>\n",
              "      <td>2016-01-19</td>\n",
              "      <td>35</td>\n",
              "      <td>10</td>\n",
              "      <td>6.385108</td>\n",
              "    </tr>\n",
              "    <tr>\n",
              "      <th>3</th>\n",
              "      <td>id3504673</td>\n",
              "      <td>2</td>\n",
              "      <td>2016-04-06 19:32:31</td>\n",
              "      <td>2016-04-06 19:39:40</td>\n",
              "      <td>1</td>\n",
              "      <td>-74.010040</td>\n",
              "      <td>40.719971</td>\n",
              "      <td>-74.012268</td>\n",
              "      <td>40.706718</td>\n",
              "      <td>N</td>\n",
              "      <td>...</td>\n",
              "      <td>19</td>\n",
              "      <td>19</td>\n",
              "      <td>2</td>\n",
              "      <td>2</td>\n",
              "      <td>6</td>\n",
              "      <td>6</td>\n",
              "      <td>2016-04-06</td>\n",
              "      <td>32</td>\n",
              "      <td>39</td>\n",
              "      <td>1.485501</td>\n",
              "    </tr>\n",
              "    <tr>\n",
              "      <th>4</th>\n",
              "      <td>id2181028</td>\n",
              "      <td>2</td>\n",
              "      <td>2016-03-26 13:30:55</td>\n",
              "      <td>2016-03-26 13:38:10</td>\n",
              "      <td>1</td>\n",
              "      <td>-73.973053</td>\n",
              "      <td>40.793209</td>\n",
              "      <td>-73.972923</td>\n",
              "      <td>40.782520</td>\n",
              "      <td>N</td>\n",
              "      <td>...</td>\n",
              "      <td>13</td>\n",
              "      <td>13</td>\n",
              "      <td>5</td>\n",
              "      <td>5</td>\n",
              "      <td>26</td>\n",
              "      <td>26</td>\n",
              "      <td>2016-03-26</td>\n",
              "      <td>30</td>\n",
              "      <td>38</td>\n",
              "      <td>1.188590</td>\n",
              "    </tr>\n",
              "  </tbody>\n",
              "</table>\n",
              "<p>5 rows × 23 columns</p>\n",
              "</div>\n",
              "      <button class=\"colab-df-convert\" onclick=\"convertToInteractive('df-d4148709-43aa-4562-9e75-a67042466a65')\"\n",
              "              title=\"Convert this dataframe to an interactive table.\"\n",
              "              style=\"display:none;\">\n",
              "        \n",
              "  <svg xmlns=\"http://www.w3.org/2000/svg\" height=\"24px\"viewBox=\"0 0 24 24\"\n",
              "       width=\"24px\">\n",
              "    <path d=\"M0 0h24v24H0V0z\" fill=\"none\"/>\n",
              "    <path d=\"M18.56 5.44l.94 2.06.94-2.06 2.06-.94-2.06-.94-.94-2.06-.94 2.06-2.06.94zm-11 1L8.5 8.5l.94-2.06 2.06-.94-2.06-.94L8.5 2.5l-.94 2.06-2.06.94zm10 10l.94 2.06.94-2.06 2.06-.94-2.06-.94-.94-2.06-.94 2.06-2.06.94z\"/><path d=\"M17.41 7.96l-1.37-1.37c-.4-.4-.92-.59-1.43-.59-.52 0-1.04.2-1.43.59L10.3 9.45l-7.72 7.72c-.78.78-.78 2.05 0 2.83L4 21.41c.39.39.9.59 1.41.59.51 0 1.02-.2 1.41-.59l7.78-7.78 2.81-2.81c.8-.78.8-2.07 0-2.86zM5.41 20L4 18.59l7.72-7.72 1.47 1.35L5.41 20z\"/>\n",
              "  </svg>\n",
              "      </button>\n",
              "      \n",
              "  <style>\n",
              "    .colab-df-container {\n",
              "      display:flex;\n",
              "      flex-wrap:wrap;\n",
              "      gap: 12px;\n",
              "    }\n",
              "\n",
              "    .colab-df-convert {\n",
              "      background-color: #E8F0FE;\n",
              "      border: none;\n",
              "      border-radius: 50%;\n",
              "      cursor: pointer;\n",
              "      display: none;\n",
              "      fill: #1967D2;\n",
              "      height: 32px;\n",
              "      padding: 0 0 0 0;\n",
              "      width: 32px;\n",
              "    }\n",
              "\n",
              "    .colab-df-convert:hover {\n",
              "      background-color: #E2EBFA;\n",
              "      box-shadow: 0px 1px 2px rgba(60, 64, 67, 0.3), 0px 1px 3px 1px rgba(60, 64, 67, 0.15);\n",
              "      fill: #174EA6;\n",
              "    }\n",
              "\n",
              "    [theme=dark] .colab-df-convert {\n",
              "      background-color: #3B4455;\n",
              "      fill: #D2E3FC;\n",
              "    }\n",
              "\n",
              "    [theme=dark] .colab-df-convert:hover {\n",
              "      background-color: #434B5C;\n",
              "      box-shadow: 0px 1px 3px 1px rgba(0, 0, 0, 0.15);\n",
              "      filter: drop-shadow(0px 1px 2px rgba(0, 0, 0, 0.3));\n",
              "      fill: #FFFFFF;\n",
              "    }\n",
              "  </style>\n",
              "\n",
              "      <script>\n",
              "        const buttonEl =\n",
              "          document.querySelector('#df-d4148709-43aa-4562-9e75-a67042466a65 button.colab-df-convert');\n",
              "        buttonEl.style.display =\n",
              "          google.colab.kernel.accessAllowed ? 'block' : 'none';\n",
              "\n",
              "        async function convertToInteractive(key) {\n",
              "          const element = document.querySelector('#df-d4148709-43aa-4562-9e75-a67042466a65');\n",
              "          const dataTable =\n",
              "            await google.colab.kernel.invokeFunction('convertToInteractive',\n",
              "                                                     [key], {});\n",
              "          if (!dataTable) return;\n",
              "\n",
              "          const docLinkHtml = 'Like what you see? Visit the ' +\n",
              "            '<a target=\"_blank\" href=https://colab.research.google.com/notebooks/data_table.ipynb>data table notebook</a>'\n",
              "            + ' to learn more about interactive tables.';\n",
              "          element.innerHTML = '';\n",
              "          dataTable['output_type'] = 'display_data';\n",
              "          await google.colab.output.renderOutput(dataTable, element);\n",
              "          const docLink = document.createElement('div');\n",
              "          docLink.innerHTML = docLinkHtml;\n",
              "          element.appendChild(docLink);\n",
              "        }\n",
              "      </script>\n",
              "    </div>\n",
              "  </div>\n",
              "  "
            ]
          },
          "metadata": {},
          "execution_count": 17
        }
      ]
    },
    {
      "cell_type": "code",
      "source": [
        "#Check the type of each variable\n",
        "df.dtypes.reset_index()"
      ],
      "metadata": {
        "id": "_7px9QZ-x4RG",
        "colab": {
          "base_uri": "https://localhost:8080/",
          "height": 770
        },
        "outputId": "0bedf73f-a396-4652-ee77-6869edb05c6e"
      },
      "execution_count": 18,
      "outputs": [
        {
          "output_type": "execute_result",
          "data": {
            "text/plain": [
              "                 index               0\n",
              "0                   id          object\n",
              "1            vendor_id           int64\n",
              "2      pickup_datetime  datetime64[ns]\n",
              "3     dropoff_datetime  datetime64[ns]\n",
              "4      passenger_count           int64\n",
              "5     pickup_longitude         float64\n",
              "6      pickup_latitude         float64\n",
              "7    dropoff_longitude         float64\n",
              "8     dropoff_latitude         float64\n",
              "9   store_and_fwd_flag          object\n",
              "10       trip_duration           int64\n",
              "11        pickup_month           int64\n",
              "12       dropoff_month           int64\n",
              "13         pickup_hour           int64\n",
              "14        dropoff_hour           int64\n",
              "15      pickup_weekday           int64\n",
              "16     dropoff_weekday           int64\n",
              "17          pickup_day           int64\n",
              "18         dropoff_day           int64\n",
              "19         pickup_date          object\n",
              "20          pickup_min           int64\n",
              "21         dropoff_min           int64\n",
              "22            distance         float64"
            ],
            "text/html": [
              "\n",
              "  <div id=\"df-72c92b67-9e9e-49e7-a5fa-ad9d713352bb\">\n",
              "    <div class=\"colab-df-container\">\n",
              "      <div>\n",
              "<style scoped>\n",
              "    .dataframe tbody tr th:only-of-type {\n",
              "        vertical-align: middle;\n",
              "    }\n",
              "\n",
              "    .dataframe tbody tr th {\n",
              "        vertical-align: top;\n",
              "    }\n",
              "\n",
              "    .dataframe thead th {\n",
              "        text-align: right;\n",
              "    }\n",
              "</style>\n",
              "<table border=\"1\" class=\"dataframe\">\n",
              "  <thead>\n",
              "    <tr style=\"text-align: right;\">\n",
              "      <th></th>\n",
              "      <th>index</th>\n",
              "      <th>0</th>\n",
              "    </tr>\n",
              "  </thead>\n",
              "  <tbody>\n",
              "    <tr>\n",
              "      <th>0</th>\n",
              "      <td>id</td>\n",
              "      <td>object</td>\n",
              "    </tr>\n",
              "    <tr>\n",
              "      <th>1</th>\n",
              "      <td>vendor_id</td>\n",
              "      <td>int64</td>\n",
              "    </tr>\n",
              "    <tr>\n",
              "      <th>2</th>\n",
              "      <td>pickup_datetime</td>\n",
              "      <td>datetime64[ns]</td>\n",
              "    </tr>\n",
              "    <tr>\n",
              "      <th>3</th>\n",
              "      <td>dropoff_datetime</td>\n",
              "      <td>datetime64[ns]</td>\n",
              "    </tr>\n",
              "    <tr>\n",
              "      <th>4</th>\n",
              "      <td>passenger_count</td>\n",
              "      <td>int64</td>\n",
              "    </tr>\n",
              "    <tr>\n",
              "      <th>5</th>\n",
              "      <td>pickup_longitude</td>\n",
              "      <td>float64</td>\n",
              "    </tr>\n",
              "    <tr>\n",
              "      <th>6</th>\n",
              "      <td>pickup_latitude</td>\n",
              "      <td>float64</td>\n",
              "    </tr>\n",
              "    <tr>\n",
              "      <th>7</th>\n",
              "      <td>dropoff_longitude</td>\n",
              "      <td>float64</td>\n",
              "    </tr>\n",
              "    <tr>\n",
              "      <th>8</th>\n",
              "      <td>dropoff_latitude</td>\n",
              "      <td>float64</td>\n",
              "    </tr>\n",
              "    <tr>\n",
              "      <th>9</th>\n",
              "      <td>store_and_fwd_flag</td>\n",
              "      <td>object</td>\n",
              "    </tr>\n",
              "    <tr>\n",
              "      <th>10</th>\n",
              "      <td>trip_duration</td>\n",
              "      <td>int64</td>\n",
              "    </tr>\n",
              "    <tr>\n",
              "      <th>11</th>\n",
              "      <td>pickup_month</td>\n",
              "      <td>int64</td>\n",
              "    </tr>\n",
              "    <tr>\n",
              "      <th>12</th>\n",
              "      <td>dropoff_month</td>\n",
              "      <td>int64</td>\n",
              "    </tr>\n",
              "    <tr>\n",
              "      <th>13</th>\n",
              "      <td>pickup_hour</td>\n",
              "      <td>int64</td>\n",
              "    </tr>\n",
              "    <tr>\n",
              "      <th>14</th>\n",
              "      <td>dropoff_hour</td>\n",
              "      <td>int64</td>\n",
              "    </tr>\n",
              "    <tr>\n",
              "      <th>15</th>\n",
              "      <td>pickup_weekday</td>\n",
              "      <td>int64</td>\n",
              "    </tr>\n",
              "    <tr>\n",
              "      <th>16</th>\n",
              "      <td>dropoff_weekday</td>\n",
              "      <td>int64</td>\n",
              "    </tr>\n",
              "    <tr>\n",
              "      <th>17</th>\n",
              "      <td>pickup_day</td>\n",
              "      <td>int64</td>\n",
              "    </tr>\n",
              "    <tr>\n",
              "      <th>18</th>\n",
              "      <td>dropoff_day</td>\n",
              "      <td>int64</td>\n",
              "    </tr>\n",
              "    <tr>\n",
              "      <th>19</th>\n",
              "      <td>pickup_date</td>\n",
              "      <td>object</td>\n",
              "    </tr>\n",
              "    <tr>\n",
              "      <th>20</th>\n",
              "      <td>pickup_min</td>\n",
              "      <td>int64</td>\n",
              "    </tr>\n",
              "    <tr>\n",
              "      <th>21</th>\n",
              "      <td>dropoff_min</td>\n",
              "      <td>int64</td>\n",
              "    </tr>\n",
              "    <tr>\n",
              "      <th>22</th>\n",
              "      <td>distance</td>\n",
              "      <td>float64</td>\n",
              "    </tr>\n",
              "  </tbody>\n",
              "</table>\n",
              "</div>\n",
              "      <button class=\"colab-df-convert\" onclick=\"convertToInteractive('df-72c92b67-9e9e-49e7-a5fa-ad9d713352bb')\"\n",
              "              title=\"Convert this dataframe to an interactive table.\"\n",
              "              style=\"display:none;\">\n",
              "        \n",
              "  <svg xmlns=\"http://www.w3.org/2000/svg\" height=\"24px\"viewBox=\"0 0 24 24\"\n",
              "       width=\"24px\">\n",
              "    <path d=\"M0 0h24v24H0V0z\" fill=\"none\"/>\n",
              "    <path d=\"M18.56 5.44l.94 2.06.94-2.06 2.06-.94-2.06-.94-.94-2.06-.94 2.06-2.06.94zm-11 1L8.5 8.5l.94-2.06 2.06-.94-2.06-.94L8.5 2.5l-.94 2.06-2.06.94zm10 10l.94 2.06.94-2.06 2.06-.94-2.06-.94-.94-2.06-.94 2.06-2.06.94z\"/><path d=\"M17.41 7.96l-1.37-1.37c-.4-.4-.92-.59-1.43-.59-.52 0-1.04.2-1.43.59L10.3 9.45l-7.72 7.72c-.78.78-.78 2.05 0 2.83L4 21.41c.39.39.9.59 1.41.59.51 0 1.02-.2 1.41-.59l7.78-7.78 2.81-2.81c.8-.78.8-2.07 0-2.86zM5.41 20L4 18.59l7.72-7.72 1.47 1.35L5.41 20z\"/>\n",
              "  </svg>\n",
              "      </button>\n",
              "      \n",
              "  <style>\n",
              "    .colab-df-container {\n",
              "      display:flex;\n",
              "      flex-wrap:wrap;\n",
              "      gap: 12px;\n",
              "    }\n",
              "\n",
              "    .colab-df-convert {\n",
              "      background-color: #E8F0FE;\n",
              "      border: none;\n",
              "      border-radius: 50%;\n",
              "      cursor: pointer;\n",
              "      display: none;\n",
              "      fill: #1967D2;\n",
              "      height: 32px;\n",
              "      padding: 0 0 0 0;\n",
              "      width: 32px;\n",
              "    }\n",
              "\n",
              "    .colab-df-convert:hover {\n",
              "      background-color: #E2EBFA;\n",
              "      box-shadow: 0px 1px 2px rgba(60, 64, 67, 0.3), 0px 1px 3px 1px rgba(60, 64, 67, 0.15);\n",
              "      fill: #174EA6;\n",
              "    }\n",
              "\n",
              "    [theme=dark] .colab-df-convert {\n",
              "      background-color: #3B4455;\n",
              "      fill: #D2E3FC;\n",
              "    }\n",
              "\n",
              "    [theme=dark] .colab-df-convert:hover {\n",
              "      background-color: #434B5C;\n",
              "      box-shadow: 0px 1px 3px 1px rgba(0, 0, 0, 0.15);\n",
              "      filter: drop-shadow(0px 1px 2px rgba(0, 0, 0, 0.3));\n",
              "      fill: #FFFFFF;\n",
              "    }\n",
              "  </style>\n",
              "\n",
              "      <script>\n",
              "        const buttonEl =\n",
              "          document.querySelector('#df-72c92b67-9e9e-49e7-a5fa-ad9d713352bb button.colab-df-convert');\n",
              "        buttonEl.style.display =\n",
              "          google.colab.kernel.accessAllowed ? 'block' : 'none';\n",
              "\n",
              "        async function convertToInteractive(key) {\n",
              "          const element = document.querySelector('#df-72c92b67-9e9e-49e7-a5fa-ad9d713352bb');\n",
              "          const dataTable =\n",
              "            await google.colab.kernel.invokeFunction('convertToInteractive',\n",
              "                                                     [key], {});\n",
              "          if (!dataTable) return;\n",
              "\n",
              "          const docLinkHtml = 'Like what you see? Visit the ' +\n",
              "            '<a target=\"_blank\" href=https://colab.research.google.com/notebooks/data_table.ipynb>data table notebook</a>'\n",
              "            + ' to learn more about interactive tables.';\n",
              "          element.innerHTML = '';\n",
              "          dataTable['output_type'] = 'display_data';\n",
              "          await google.colab.output.renderOutput(dataTable, element);\n",
              "          const docLink = document.createElement('div');\n",
              "          docLink.innerHTML = docLinkHtml;\n",
              "          element.appendChild(docLink);\n",
              "        }\n",
              "      </script>\n",
              "    </div>\n",
              "  </div>\n",
              "  "
            ]
          },
          "metadata": {},
          "execution_count": 18
        }
      ]
    },
    {
      "cell_type": "markdown",
      "source": [
        "# EDA & Data Preprocessing"
      ],
      "metadata": {
        "id": "q7-Loo_PzGIZ"
      }
    },
    {
      "cell_type": "markdown",
      "source": [
        "<b>Vendor id</b>"
      ],
      "metadata": {
        "id": "hPuT-yuvzLne"
      }
    },
    {
      "cell_type": "code",
      "source": [
        "#vendor_id - a code indicating the provider associated with the trip record\n",
        "\n",
        "sns.set_context('talk')\n",
        "\n",
        "plt.figure(figsize=(5,5))\n",
        "sns.countplot(df['vendor_id'], palette='Dark2')\n",
        "plt.title(\"Vendor ID\")"
      ],
      "metadata": {
        "id": "WQmY_A1fx6XG",
        "colab": {
          "base_uri": "https://localhost:8080/",
          "height": 393
        },
        "outputId": "d665dbc1-0e06-4593-b287-de60c0f6b9cd"
      },
      "execution_count": 19,
      "outputs": [
        {
          "output_type": "execute_result",
          "data": {
            "text/plain": [
              "Text(0.5, 1.0, 'Vendor ID')"
            ]
          },
          "metadata": {},
          "execution_count": 19
        },
        {
          "output_type": "display_data",
          "data": {
            "text/plain": [
              "<Figure size 360x360 with 1 Axes>"
            ],
            "image/png": "[encoded data removed]"
          },
          "metadata": {
            "needs_background": "light"
          }
        }
      ]
    },
    {
      "cell_type": "markdown",
      "source": [
        "- From Above Visualization, we can say that there are **2 vendors** (Service Providers).\n",
        "\n",
        "\n",
        "- 2nd Service provider is the most opted one by New Yorkers.\n"
      ],
      "metadata": {
        "id": "JaC1EdPbzSqh"
      }
    },
    {
      "cell_type": "markdown",
      "source": [
        "**Store and Forward Flag**"
      ],
      "metadata": {
        "id": "gfHyulGdzV9y"
      }
    },
    {
      "cell_type": "code",
      "source": [
        "df['store_and_fwd_flag'].value_counts()"
      ],
      "metadata": {
        "id": "FytTsqYQzYj0",
        "colab": {
          "base_uri": "https://localhost:8080/"
        },
        "outputId": "2b7c8010-7261-416f-8b99-54097c3751d2"
      },
      "execution_count": 20,
      "outputs": [
        {
          "output_type": "execute_result",
          "data": {
            "text/plain": [
              "N    1450599\n",
              "Y       8045\n",
              "Name: store_and_fwd_flag, dtype: int64"
            ]
          },
          "metadata": {},
          "execution_count": 20
        }
      ]
    },
    {
      "cell_type": "markdown",
      "source": [
        "We see there are less than 1% of trips that were stored before forwarding."
      ],
      "metadata": {
        "id": "SqGpBNd5zdrT"
      }
    },
    {
      "cell_type": "code",
      "source": [
        "#Store & Forward flag\n",
        "\n",
        "plt.figure(figsize=(5,5))\n",
        "plt.pie(df['store_and_fwd_flag'].value_counts(), colors=['lightgreen', 'lightcoral'], shadow=True, explode=[0.5,0], autopct='%1.2f%%', startangle=200)\n",
        "plt.legend(labels=['N','Y'])\n",
        "plt.title(\"Store and Forward Flag\")"
      ],
      "metadata": {
        "id": "mwVW22e9zew-",
        "colab": {
          "base_uri": "https://localhost:8080/",
          "height": 341
        },
        "outputId": "0d9fb72b-fcef-49f9-9687-9339198f370b"
      },
      "execution_count": 21,
      "outputs": [
        {
          "output_type": "execute_result",
          "data": {
            "text/plain": [
              "Text(0.5, 1.0, 'Store and Forward Flag')"
            ]
          },
          "metadata": {},
          "execution_count": 21
        },
        {
          "output_type": "display_data",
          "data": {
            "text/plain": [
              "<Figure size 360x360 with 1 Axes>"
            ],
            "image/png": "[encoded data removed]"
          },
          "metadata": {}
        }
      ]
    },
    {
      "cell_type": "markdown",
      "source": [
        "- We see there are less than 1% of trips that were stored before forwarding\n",
        "\n",
        "- The number of N flag is much larger. We can later see whether they have any relation with the duration of the trip.\n",
        "\n",
        "- We will also perform Conversion of 'store_and_fwd_flag' and 'vendor_id' to be Label encoded in a while as those are Categorical features. "
      ],
      "metadata": {
        "id": "DjcVB5Azzq8R"
      }
    },
    {
      "cell_type": "markdown",
      "source": [
        "**Target Variable - Trip duration**"
      ],
      "metadata": {
        "id": "7zSTBL73ztvd"
      }
    },
    {
      "cell_type": "code",
      "source": [
        "#Visualising Trip duration\n",
        "\n",
        "plt.figure(figsize=(20,5))\n",
        "sns.boxplot(df['trip_duration'])"
      ],
      "metadata": {
        "id": "gWhLSONDzr51",
        "colab": {
          "base_uri": "https://localhost:8080/",
          "height": 373
        },
        "outputId": "401439d0-2a18-4dff-b3a3-4fe70bf38def"
      },
      "execution_count": 22,
      "outputs": [
        {
          "output_type": "execute_result",
          "data": {
            "text/plain": [
              "<matplotlib.axes._subplots.AxesSubplot at 0x7fecf28ded50>"
            ]
          },
          "metadata": {},
          "execution_count": 22
        },
        {
          "output_type": "display_data",
          "data": {
            "text/plain": [
              "<Figure size 1440x360 with 1 Axes>"
            ],
            "image/png": "[encoded data removed]"
          },
          "metadata": {
            "needs_background": "light"
          }
        }
      ]
    },
    {
      "cell_type": "markdown",
      "source": [
        "- Probably in this visualization we can clearly see some outliers , their trips are lasting between 1900000 seconds (528 Hours) to somewhere around 3500000 (972 hours) seconds which is impossible in case of taxi trips , How can a taxi trip be that long ?\n",
        "\n",
        "\n",
        "- It’s Quite suspicious. We’ll have to get rid of those Outliers."
      ],
      "metadata": {
        "id": "iUyb6Nu8z94t"
      }
    },
    {
      "cell_type": "code",
      "source": [
        "df['trip_duration'].sort_values(ascending=False) #lets see trip duration column in descending order"
      ],
      "metadata": {
        "id": "PIepCSADzx9t",
        "colab": {
          "base_uri": "https://localhost:8080/"
        },
        "outputId": "2e2b8d26-dcbf-4701-8480-a64319362812"
      },
      "execution_count": 23,
      "outputs": [
        {
          "output_type": "execute_result",
          "data": {
            "text/plain": [
              "978383     3526282\n",
              "924150     2227612\n",
              "680594     2049578\n",
              "355003     1939736\n",
              "1234291      86392\n",
              "            ...   \n",
              "269418           1\n",
              "467645           1\n",
              "533799           1\n",
              "726971           1\n",
              "311745           1\n",
              "Name: trip_duration, Length: 1458644, dtype: int64"
            ]
          },
          "metadata": {},
          "execution_count": 23
        }
      ]
    },
    {
      "cell_type": "markdown",
      "source": [
        "We can see that there is some entries which is significantly different from others.\n",
        "\n",
        "As there is this 4 rows only, let us drop this rows."
      ],
      "metadata": {
        "id": "ht-LpaYz0KD0"
      }
    },
    {
      "cell_type": "code",
      "source": [
        "#Dropping these 4 rows\n",
        "\n",
        "df.drop(df[df['trip_duration'] == 3526282].index, inplace = True)\n",
        "df.drop(df[df['trip_duration'] == 2227612].index, inplace = True)\n",
        "df.drop(df[df['trip_duration'] == 2049578].index, inplace = True)\n",
        "df.drop(df[df['trip_duration'] == 1939736].index, inplace = True)\n"
      ],
      "metadata": {
        "id": "GNb7175L0IgO"
      },
      "execution_count": 24,
      "outputs": []
    },
    {
      "cell_type": "code",
      "source": [
        "df.shape"
      ],
      "metadata": {
        "id": "k2I5wDY40WSN",
        "colab": {
          "base_uri": "https://localhost:8080/"
        },
        "outputId": "d18c7866-bbc0-4f58-d3b4-2a1ac669642b"
      },
      "execution_count": 25,
      "outputs": [
        {
          "output_type": "execute_result",
          "data": {
            "text/plain": [
              "(1458640, 23)"
            ]
          },
          "metadata": {},
          "execution_count": 25
        }
      ]
    },
    {
      "cell_type": "code",
      "source": [
        "plt.figure(figsize=(20,5))\n",
        "sns.boxplot(df['trip_duration'])"
      ],
      "metadata": {
        "id": "Mbf73-Te0YFF",
        "colab": {
          "base_uri": "https://localhost:8080/",
          "height": 373
        },
        "outputId": "40695812-f399-4e67-9108-b9372211d313"
      },
      "execution_count": 26,
      "outputs": [
        {
          "output_type": "execute_result",
          "data": {
            "text/plain": [
              "<matplotlib.axes._subplots.AxesSubplot at 0x7fecf2f02190>"
            ]
          },
          "metadata": {},
          "execution_count": 26
        },
        {
          "output_type": "display_data",
          "data": {
            "text/plain": [
              "<Figure size 1440x360 with 1 Axes>"
            ],
            "image/png": "[encoded data removed]"
          },
          "metadata": {
            "needs_background": "light"
          }
        }
      ]
    },
    {
      "cell_type": "markdown",
      "source": [
        "**Passenger Count**"
      ],
      "metadata": {
        "id": "ql-ED-4L0dng"
      }
    },
    {
      "cell_type": "code",
      "source": [
        "#Spread of Passenger count\n",
        "\n",
        "plt.figure(figsize=(20,5))\n",
        "sns.boxplot(df['passenger_count'], color='maroon')\n",
        "plt.title('Passenger Count Distribution')"
      ],
      "metadata": {
        "id": "IASgDqCQ0g1H",
        "colab": {
          "base_uri": "https://localhost:8080/",
          "height": 393
        },
        "outputId": "462a7692-b7ae-4c0a-ef78-f0add3f5b9cb"
      },
      "execution_count": 27,
      "outputs": [
        {
          "output_type": "execute_result",
          "data": {
            "text/plain": [
              "Text(0.5, 1.0, 'Passenger Count Distribution')"
            ]
          },
          "metadata": {},
          "execution_count": 27
        },
        {
          "output_type": "display_data",
          "data": {
            "text/plain": [
              "<Figure size 1440x360 with 1 Axes>"
            ],
            "image/png": "[encoded data removed]"
          },
          "metadata": {
            "needs_background": "light"
          }
        }
      ]
    },
    {
      "cell_type": "markdown",
      "source": [
        "- Above visualization tells us that there were most number of trips are done by 1-2 passenger(s).\n",
        "\n",
        "\n",
        "- 5 - 9 passengers trip states us that cab must be a Large vehicle. "
      ],
      "metadata": {
        "id": "Q0ruLwE30qYi"
      }
    },
    {
      "cell_type": "code",
      "source": [
        "df.passenger_count.value_counts()"
      ],
      "metadata": {
        "id": "kzFUHH0Q0sRN",
        "colab": {
          "base_uri": "https://localhost:8080/"
        },
        "outputId": "0e24585f-0de8-47e9-d333-2f1f4e97601d"
      },
      "execution_count": 28,
      "outputs": [
        {
          "output_type": "execute_result",
          "data": {
            "text/plain": [
              "1    1033537\n",
              "2     210317\n",
              "5      78088\n",
              "3      59896\n",
              "6      48333\n",
              "4      28404\n",
              "0         60\n",
              "7          3\n",
              "9          1\n",
              "8          1\n",
              "Name: passenger_count, dtype: int64"
            ]
          },
          "metadata": {},
          "execution_count": 28
        }
      ]
    },
    {
      "cell_type": "markdown",
      "source": [
        " - There are some trips with even 0 passenger count.\n",
        " - And 3 trips with 7 passengers\n",
        " - And there is only 1 trip each for 8 and 9 passengers."
      ],
      "metadata": {
        "id": "R4W51GZE0ug9"
      }
    },
    {
      "cell_type": "code",
      "source": [
        "# Let us remove the rows which have 0 or 7 or 9 passenger count.\n",
        "df = df[df['passenger_count'] > 0]\n",
        "df = df[df['passenger_count'] <= 6]\n",
        "\n",
        "df.passenger_count.value_counts()"
      ],
      "metadata": {
        "id": "U4CwrUiS0wKm",
        "colab": {
          "base_uri": "https://localhost:8080/"
        },
        "outputId": "a2e7541c-7a89-4e41-bcb9-0dd3538cce2f"
      },
      "execution_count": 29,
      "outputs": [
        {
          "output_type": "execute_result",
          "data": {
            "text/plain": [
              "1    1033537\n",
              "2     210317\n",
              "5      78088\n",
              "3      59896\n",
              "6      48333\n",
              "4      28404\n",
              "Name: passenger_count, dtype: int64"
            ]
          },
          "metadata": {},
          "execution_count": 29
        }
      ]
    },
    {
      "cell_type": "code",
      "source": [
        "#Passenger count\n",
        "plt.figure(figsize=(10,5))\n",
        "\n",
        "sns.countplot(df['passenger_count'], palette='pastel')"
      ],
      "metadata": {
        "id": "Q0B2KauP0xdR",
        "colab": {
          "base_uri": "https://localhost:8080/",
          "height": 390
        },
        "outputId": "7d9275c6-c0e3-435d-9476-c10170faa0f2"
      },
      "execution_count": 30,
      "outputs": [
        {
          "output_type": "execute_result",
          "data": {
            "text/plain": [
              "<matplotlib.axes._subplots.AxesSubplot at 0x7fecf2a70090>"
            ]
          },
          "metadata": {},
          "execution_count": 30
        },
        {
          "output_type": "display_data",
          "data": {
            "text/plain": [
              "<Figure size 720x360 with 1 Axes>"
            ],
            "image/png": "[encoded data removed]"
          },
          "metadata": {
            "needs_background": "light"
          }
        }
      ]
    },
    {
      "cell_type": "markdown",
      "source": [
        " - Now, that seems like a fair distribution.\n",
        "\n",
        " - We see the highest amount of trips are with 1 passenger."
      ],
      "metadata": {
        "id": "nC9gBCNS09FY"
      }
    },
    {
      "cell_type": "markdown",
      "source": [
        "**Distance**"
      ],
      "metadata": {
        "id": "0PzJ6G270_7w"
      }
    },
    {
      "cell_type": "code",
      "source": [
        "plt.figure(figsize = (20,5))\n",
        "sns.boxplot(df.distance)\n",
        "plt.show()"
      ],
      "metadata": {
        "id": "dm82e3S81CP2",
        "colab": {
          "base_uri": "https://localhost:8080/",
          "height": 355
        },
        "outputId": "f22695a2-5798-469c-b785-ad63aa16e452"
      },
      "execution_count": 31,
      "outputs": [
        {
          "output_type": "display_data",
          "data": {
            "text/plain": [
              "<Figure size 1440x360 with 1 Axes>"
            ],
            "image/png": "[encoded data removed]"
          },
          "metadata": {
            "needs_background": "light"
          }
        }
      ]
    },
    {
      "cell_type": "code",
      "source": [
        "print(\"There are {} trip records with 0 km distance\".format(df.distance[df.distance == 0 ].count()))"
      ],
      "metadata": {
        "id": "jRzXItd-1IFe",
        "colab": {
          "base_uri": "https://localhost:8080/"
        },
        "outputId": "6a84c1b8-b323-417e-fb50-d9f13b5e69e7"
      },
      "execution_count": 32,
      "outputs": [
        {
          "output_type": "stream",
          "name": "stdout",
          "text": [
            "There are 5887 trip records with 0 km distance\n"
          ]
        }
      ]
    },
    {
      "cell_type": "markdown",
      "source": [
        "The reasons for 0 km distance can be:\n",
        "\n",
        " - The dropoff location couldn’t be tracked.\n",
        " - The driver deliberately took this ride to complete a target ride number.\n",
        " - The passengers canceled the trip.\n",
        " \n",
        "We will analyze these trips further in bivariate analysis."
      ],
      "metadata": {
        "id": "InlKPovW1O9Z"
      }
    },
    {
      "cell_type": "code",
      "source": [
        "df[df.distance == 0 ].head()"
      ],
      "metadata": {
        "id": "63WE51AO1RJ1",
        "colab": {
          "base_uri": "https://localhost:8080/",
          "height": 386
        },
        "outputId": "b9523ff6-5ec0-4b45-ac0f-3ba18a14a230"
      },
      "execution_count": 33,
      "outputs": [
        {
          "output_type": "execute_result",
          "data": {
            "text/plain": [
              "             id  vendor_id     pickup_datetime    dropoff_datetime  \\\n",
              "246   id3487442          2 2016-02-29 18:39:12 2016-02-29 18:42:59   \n",
              "291   id0924324          2 2016-05-10 18:07:52 2016-05-10 18:26:21   \n",
              "407   id1145809          2 2016-05-16 23:15:13 2016-05-16 23:31:00   \n",
              "702   id3499387          1 2016-01-25 19:45:12 2016-01-25 19:54:52   \n",
              "1620  id0753277          1 2016-01-27 22:29:31 2016-01-27 22:29:58   \n",
              "\n",
              "      passenger_count  pickup_longitude  pickup_latitude  dropoff_longitude  \\\n",
              "246                 1        -73.981819        40.768963         -73.981819   \n",
              "291                 2        -73.959068        40.775661         -73.959068   \n",
              "407                 6        -73.808487        40.687336         -73.808487   \n",
              "702                 1        -73.786720        40.647041         -73.786720   \n",
              "1620                1        -74.209854        40.816853         -74.209854   \n",
              "\n",
              "      dropoff_latitude store_and_fwd_flag  ...  pickup_hour  dropoff_hour  \\\n",
              "246          40.768963                  N  ...           18            18   \n",
              "291          40.775661                  N  ...           18            18   \n",
              "407          40.687336                  N  ...           23            23   \n",
              "702          40.647041                  N  ...           19            19   \n",
              "1620         40.816853                  N  ...           22            22   \n",
              "\n",
              "      pickup_weekday  dropoff_weekday  pickup_day  dropoff_day  pickup_date  \\\n",
              "246                0                0          29           29   2016-02-29   \n",
              "291                1                1          10           10   2016-05-10   \n",
              "407                0                0          16           16   2016-05-16   \n",
              "702                0                0          25           25   2016-01-25   \n",
              "1620               2                2          27           27   2016-01-27   \n",
              "\n",
              "      pickup_min  dropoff_min distance  \n",
              "246           39           42      0.0  \n",
              "291            7           26      0.0  \n",
              "407           15           31      0.0  \n",
              "702           45           54      0.0  \n",
              "1620          29           29      0.0  \n",
              "\n",
              "[5 rows x 23 columns]"
            ],
            "text/html": [
              "\n",
              "  <div id=\"df-0fce71fa-9659-42ab-9a7b-1ef28713d76d\">\n",
              "    <div class=\"colab-df-container\">\n",
              "      <div>\n",
              "<style scoped>\n",
              "    .dataframe tbody tr th:only-of-type {\n",
              "        vertical-align: middle;\n",
              "    }\n",
              "\n",
              "    .dataframe tbody tr th {\n",
              "        vertical-align: top;\n",
              "    }\n",
              "\n",
              "    .dataframe thead th {\n",
              "        text-align: right;\n",
              "    }\n",
              "</style>\n",
              "<table border=\"1\" class=\"dataframe\">\n",
              "  <thead>\n",
              "    <tr style=\"text-align: right;\">\n",
              "      <th></th>\n",
              "      <th>id</th>\n",
              "      <th>vendor_id</th>\n",
              "      <th>pickup_datetime</th>\n",
              "      <th>dropoff_datetime</th>\n",
              "      <th>passenger_count</th>\n",
              "      <th>pickup_longitude</th>\n",
              "      <th>pickup_latitude</th>\n",
              "      <th>dropoff_longitude</th>\n",
              "      <th>dropoff_latitude</th>\n",
              "      <th>store_and_fwd_flag</th>\n",
              "      <th>...</th>\n",
              "      <th>pickup_hour</th>\n",
              "      <th>dropoff_hour</th>\n",
              "      <th>pickup_weekday</th>\n",
              "      <th>dropoff_weekday</th>\n",
              "      <th>pickup_day</th>\n",
              "      <th>dropoff_day</th>\n",
              "      <th>pickup_date</th>\n",
              "      <th>pickup_min</th>\n",
              "      <th>dropoff_min</th>\n",
              "      <th>distance</th>\n",
              "    </tr>\n",
              "  </thead>\n",
              "  <tbody>\n",
              "    <tr>\n",
              "      <th>246</th>\n",
              "      <td>id3487442</td>\n",
              "      <td>2</td>\n",
              "      <td>2016-02-29 18:39:12</td>\n",
              "      <td>2016-02-29 18:42:59</td>\n",
              "      <td>1</td>\n",
              "      <td>-73.981819</td>\n",
              "      <td>40.768963</td>\n",
              "      <td>-73.981819</td>\n",
              "      <td>40.768963</td>\n",
              "      <td>N</td>\n",
              "      <td>...</td>\n",
              "      <td>18</td>\n",
              "      <td>18</td>\n",
              "      <td>0</td>\n",
              "      <td>0</td>\n",
              "      <td>29</td>\n",
              "      <td>29</td>\n",
              "      <td>2016-02-29</td>\n",
              "      <td>39</td>\n",
              "      <td>42</td>\n",
              "      <td>0.0</td>\n",
              "    </tr>\n",
              "    <tr>\n",
              "      <th>291</th>\n",
              "      <td>id0924324</td>\n",
              "      <td>2</td>\n",
              "      <td>2016-05-10 18:07:52</td>\n",
              "      <td>2016-05-10 18:26:21</td>\n",
              "      <td>2</td>\n",
              "      <td>-73.959068</td>\n",
              "      <td>40.775661</td>\n",
              "      <td>-73.959068</td>\n",
              "      <td>40.775661</td>\n",
              "      <td>N</td>\n",
              "      <td>...</td>\n",
              "      <td>18</td>\n",
              "      <td>18</td>\n",
              "      <td>1</td>\n",
              "      <td>1</td>\n",
              "      <td>10</td>\n",
              "      <td>10</td>\n",
              "      <td>2016-05-10</td>\n",
              "      <td>7</td>\n",
              "      <td>26</td>\n",
              "      <td>0.0</td>\n",
              "    </tr>\n",
              "    <tr>\n",
              "      <th>407</th>\n",
              "      <td>id1145809</td>\n",
              "      <td>2</td>\n",
              "      <td>2016-05-16 23:15:13</td>\n",
              "      <td>2016-05-16 23:31:00</td>\n",
              "      <td>6</td>\n",
              "      <td>-73.808487</td>\n",
              "      <td>40.687336</td>\n",
              "      <td>-73.808487</td>\n",
              "      <td>40.687336</td>\n",
              "      <td>N</td>\n",
              "      <td>...</td>\n",
              "      <td>23</td>\n",
              "      <td>23</td>\n",
              "      <td>0</td>\n",
              "      <td>0</td>\n",
              "      <td>16</td>\n",
              "      <td>16</td>\n",
              "      <td>2016-05-16</td>\n",
              "      <td>15</td>\n",
              "      <td>31</td>\n",
              "      <td>0.0</td>\n",
              "    </tr>\n",
              "    <tr>\n",
              "      <th>702</th>\n",
              "      <td>id3499387</td>\n",
              "      <td>1</td>\n",
              "      <td>2016-01-25 19:45:12</td>\n",
              "      <td>2016-01-25 19:54:52</td>\n",
              "      <td>1</td>\n",
              "      <td>-73.786720</td>\n",
              "      <td>40.647041</td>\n",
              "      <td>-73.786720</td>\n",
              "      <td>40.647041</td>\n",
              "      <td>N</td>\n",
              "      <td>...</td>\n",
              "      <td>19</td>\n",
              "      <td>19</td>\n",
              "      <td>0</td>\n",
              "      <td>0</td>\n",
              "      <td>25</td>\n",
              "      <td>25</td>\n",
              "      <td>2016-01-25</td>\n",
              "      <td>45</td>\n",
              "      <td>54</td>\n",
              "      <td>0.0</td>\n",
              "    </tr>\n",
              "    <tr>\n",
              "      <th>1620</th>\n",
              "      <td>id0753277</td>\n",
              "      <td>1</td>\n",
              "      <td>2016-01-27 22:29:31</td>\n",
              "      <td>2016-01-27 22:29:58</td>\n",
              "      <td>1</td>\n",
              "      <td>-74.209854</td>\n",
              "      <td>40.816853</td>\n",
              "      <td>-74.209854</td>\n",
              "      <td>40.816853</td>\n",
              "      <td>N</td>\n",
              "      <td>...</td>\n",
              "      <td>22</td>\n",
              "      <td>22</td>\n",
              "      <td>2</td>\n",
              "      <td>2</td>\n",
              "      <td>27</td>\n",
              "      <td>27</td>\n",
              "      <td>2016-01-27</td>\n",
              "      <td>29</td>\n",
              "      <td>29</td>\n",
              "      <td>0.0</td>\n",
              "    </tr>\n",
              "  </tbody>\n",
              "</table>\n",
              "<p>5 rows × 23 columns</p>\n",
              "</div>\n",
              "      <button class=\"colab-df-convert\" onclick=\"convertToInteractive('df-0fce71fa-9659-42ab-9a7b-1ef28713d76d')\"\n",
              "              title=\"Convert this dataframe to an interactive table.\"\n",
              "              style=\"display:none;\">\n",
              "        \n",
              "  <svg xmlns=\"http://www.w3.org/2000/svg\" height=\"24px\"viewBox=\"0 0 24 24\"\n",
              "       width=\"24px\">\n",
              "    <path d=\"M0 0h24v24H0V0z\" fill=\"none\"/>\n",
              "    <path d=\"M18.56 5.44l.94 2.06.94-2.06 2.06-.94-2.06-.94-.94-2.06-.94 2.06-2.06.94zm-11 1L8.5 8.5l.94-2.06 2.06-.94-2.06-.94L8.5 2.5l-.94 2.06-2.06.94zm10 10l.94 2.06.94-2.06 2.06-.94-2.06-.94-.94-2.06-.94 2.06-2.06.94z\"/><path d=\"M17.41 7.96l-1.37-1.37c-.4-.4-.92-.59-1.43-.59-.52 0-1.04.2-1.43.59L10.3 9.45l-7.72 7.72c-.78.78-.78 2.05 0 2.83L4 21.41c.39.39.9.59 1.41.59.51 0 1.02-.2 1.41-.59l7.78-7.78 2.81-2.81c.8-.78.8-2.07 0-2.86zM5.41 20L4 18.59l7.72-7.72 1.47 1.35L5.41 20z\"/>\n",
              "  </svg>\n",
              "      </button>\n",
              "      \n",
              "  <style>\n",
              "    .colab-df-container {\n",
              "      display:flex;\n",
              "      flex-wrap:wrap;\n",
              "      gap: 12px;\n",
              "    }\n",
              "\n",
              "    .colab-df-convert {\n",
              "      background-color: #E8F0FE;\n",
              "      border: none;\n",
              "      border-radius: 50%;\n",
              "      cursor: pointer;\n",
              "      display: none;\n",
              "      fill: #1967D2;\n",
              "      height: 32px;\n",
              "      padding: 0 0 0 0;\n",
              "      width: 32px;\n",
              "    }\n",
              "\n",
              "    .colab-df-convert:hover {\n",
              "      background-color: #E2EBFA;\n",
              "      box-shadow: 0px 1px 2px rgba(60, 64, 67, 0.3), 0px 1px 3px 1px rgba(60, 64, 67, 0.15);\n",
              "      fill: #174EA6;\n",
              "    }\n",
              "\n",
              "    [theme=dark] .colab-df-convert {\n",
              "      background-color: #3B4455;\n",
              "      fill: #D2E3FC;\n",
              "    }\n",
              "\n",
              "    [theme=dark] .colab-df-convert:hover {\n",
              "      background-color: #434B5C;\n",
              "      box-shadow: 0px 1px 3px 1px rgba(0, 0, 0, 0.15);\n",
              "      filter: drop-shadow(0px 1px 2px rgba(0, 0, 0, 0.3));\n",
              "      fill: #FFFFFF;\n",
              "    }\n",
              "  </style>\n",
              "\n",
              "      <script>\n",
              "        const buttonEl =\n",
              "          document.querySelector('#df-0fce71fa-9659-42ab-9a7b-1ef28713d76d button.colab-df-convert');\n",
              "        buttonEl.style.display =\n",
              "          google.colab.kernel.accessAllowed ? 'block' : 'none';\n",
              "\n",
              "        async function convertToInteractive(key) {\n",
              "          const element = document.querySelector('#df-0fce71fa-9659-42ab-9a7b-1ef28713d76d');\n",
              "          const dataTable =\n",
              "            await google.colab.kernel.invokeFunction('convertToInteractive',\n",
              "                                                     [key], {});\n",
              "          if (!dataTable) return;\n",
              "\n",
              "          const docLinkHtml = 'Like what you see? Visit the ' +\n",
              "            '<a target=\"_blank\" href=https://colab.research.google.com/notebooks/data_table.ipynb>data table notebook</a>'\n",
              "            + ' to learn more about interactive tables.';\n",
              "          element.innerHTML = '';\n",
              "          dataTable['output_type'] = 'display_data';\n",
              "          await google.colab.output.renderOutput(dataTable, element);\n",
              "          const docLink = document.createElement('div');\n",
              "          docLink.innerHTML = docLinkHtml;\n",
              "          element.appendChild(docLink);\n",
              "        }\n",
              "      </script>\n",
              "    </div>\n",
              "  </div>\n",
              "  "
            ]
          },
          "metadata": {},
          "execution_count": 33
        }
      ]
    },
    {
      "cell_type": "markdown",
      "source": [
        "**Trips per Day in a week**"
      ],
      "metadata": {
        "id": "RFaC8DKs1U5p"
      }
    },
    {
      "cell_type": "code",
      "source": [
        "#Analyzing week day trips\n",
        "\n",
        "plt.figure(figsize=(15,7))\n",
        "pickup_week = df['pickup_weekday'].value_counts()\n",
        "pickup_week.sort_index().plot(kind='bar',edgecolor='blue',color = '0.6')\n",
        "pickup_week.sort_index().plot(kind='line',color = 'red')\n",
        "\n",
        "plt.xticks(ticks=[0,1,2,3,4,5,6], labels=['Monday', 'Tuesday', 'Wednesday', 'Thursday', 'Friday', 'Saturday', 'Sunday'], rotation=0)\n",
        "plt.title('Overall Week day Trips')\n",
        "plt.xlabel('Days')\n",
        "plt.ylabel('Counts')"
      ],
      "metadata": {
        "id": "ef0PkdY01W3l",
        "colab": {
          "base_uri": "https://localhost:8080/",
          "height": 502
        },
        "outputId": "7e50b805-a518-47d1-c6a3-66ffdb3927fd"
      },
      "execution_count": 34,
      "outputs": [
        {
          "output_type": "execute_result",
          "data": {
            "text/plain": [
              "Text(0, 0.5, 'Counts')"
            ]
          },
          "metadata": {},
          "execution_count": 34
        },
        {
          "output_type": "display_data",
          "data": {
            "text/plain": [
              "<Figure size 1080x504 with 1 Axes>"
            ],
            "image/png": "[encoded data removed]"
          },
          "metadata": {
            "needs_background": "light"
          }
        }
      ]
    },
    {
      "cell_type": "markdown",
      "source": [
        "- Observations tells us that Fridays and Saturdays are those days in a week when New Yorkers prefer to rome in the city. GREAT !!"
      ],
      "metadata": {
        "id": "QhA7Y1wI1aki"
      }
    },
    {
      "cell_type": "markdown",
      "source": [
        "<b>Trips per Hour<b>"
      ],
      "metadata": {
        "id": "VoZ6DdDO1meL"
      }
    },
    {
      "cell_type": "code",
      "source": [
        "#Analyzing hourly pickups\n",
        "\n",
        "plt.figure(figsize=(20,5))\n",
        "pickup_hour = df['pickup_hour'].value_counts()\n",
        "pickup_hour.sort_index().plot(kind='bar',edgecolor='blue',color = '0.6')\n",
        "plt.xticks(rotation=0)\n",
        "\n",
        "plt.title(\"Hourly Pickups\")\n",
        "plt.xlabel('Hours')\n",
        "plt.ylabel('Counts')"
      ],
      "metadata": {
        "id": "IG2gUi001ef2",
        "colab": {
          "base_uri": "https://localhost:8080/",
          "height": 393
        },
        "outputId": "2d33d31e-fe55-4f16-803b-ac8d5ddb4e54"
      },
      "execution_count": 35,
      "outputs": [
        {
          "output_type": "execute_result",
          "data": {
            "text/plain": [
              "Text(0, 0.5, 'Counts')"
            ]
          },
          "metadata": {},
          "execution_count": 35
        },
        {
          "output_type": "display_data",
          "data": {
            "text/plain": [
              "<Figure size 1440x360 with 1 Axes>"
            ],
            "image/png": "[encoded data removed]"
          },
          "metadata": {
            "needs_background": "light"
          }
        }
      ]
    },
    {
      "cell_type": "markdown",
      "source": [
        "- In which hour we get to see maximum pickups ? - Rush hours (5 pm to 10 pm), probably office leaving time.\n",
        "\n",
        "- Thus we observe that most pickups and drops occur in the evening. While the least drops and pickups occur during midday."
      ],
      "metadata": {
        "id": "zc5bATdY1ra5"
      }
    },
    {
      "cell_type": "markdown",
      "source": [
        "<b>Trips per Day in a Month<b>"
      ],
      "metadata": {
        "id": "-z-BkTxTMIDA"
      }
    },
    {
      "cell_type": "code",
      "source": [
        "#Analyzing Daily trip\n",
        "\n",
        "plt.figure(figsize=(20,8))\n",
        "pickup_day = df['pickup_day'].value_counts()\n",
        "pickup_day.sort_index().plot(kind='line',color = 'red')\n",
        "pickup_day.sort_index().plot(kind='bar',edgecolor='blue',color = '0.6')\n",
        "plt.xticks(rotation=0)\n",
        "\n",
        "\n",
        "\n",
        "plt.title('Daily Trips Plot')\n",
        "plt.xlabel('Days')\n",
        "plt.ylabel('Counts')"
      ],
      "metadata": {
        "colab": {
          "base_uri": "https://localhost:8080/",
          "height": 556
        },
        "id": "bQBH7Z9LMUzn",
        "outputId": "ba474995-ed65-4adc-f365-5687ebb1a65f"
      },
      "execution_count": 36,
      "outputs": [
        {
          "output_type": "execute_result",
          "data": {
            "text/plain": [
              "Text(0, 0.5, 'Counts')"
            ]
          },
          "metadata": {},
          "execution_count": 36
        },
        {
          "output_type": "display_data",
          "data": {
            "text/plain": [
              "<Figure size 1440x576 with 1 Axes>"
            ],
            "image/png": "[encoded data removed]"
          },
          "metadata": {
            "needs_background": "light"
          }
        }
      ]
    },
    {
      "cell_type": "markdown",
      "source": [
        "- Seem like New Yorker’s do not prefer to get a Taxi on Month end’s , there is a significant drop in the Taxi trip count as month end’s approach."
      ],
      "metadata": {
        "id": "uekr7LXdMX-w"
      }
    },
    {
      "cell_type": "markdown",
      "source": [
        "<b>Trips per month<b>"
      ],
      "metadata": {
        "id": "wFj6iw4gMcLI"
      }
    },
    {
      "cell_type": "code",
      "source": [
        "sorted(df['pickup_month'].unique())"
      ],
      "metadata": {
        "colab": {
          "base_uri": "https://localhost:8080/"
        },
        "id": "zREMrTHgMeAa",
        "outputId": "0e70fdbc-dc18-459f-8276-a84f480fb855"
      },
      "execution_count": 37,
      "outputs": [
        {
          "output_type": "execute_result",
          "data": {
            "text/plain": [
              "[1, 2, 3, 4, 5, 6]"
            ]
          },
          "metadata": {},
          "execution_count": 37
        }
      ]
    },
    {
      "cell_type": "code",
      "source": [
        "#monthly trips exploration\n",
        "\n",
        "plt.figure(figsize=(10,7))\n",
        "sns.countplot(df['pickup_month'], palette='Accent')\n",
        "plt.xticks([0,1,2,3,4,5], labels=['Jan','Feb','March','April','May','June'])\n",
        "plt.title('Overall Monthly trips')"
      ],
      "metadata": {
        "colab": {
          "base_uri": "https://localhost:8080/",
          "height": 502
        },
        "id": "E3RQOs2gMh4K",
        "outputId": "2703ac34-eb20-4097-c048-56f018b37409"
      },
      "execution_count": 38,
      "outputs": [
        {
          "output_type": "execute_result",
          "data": {
            "text/plain": [
              "Text(0.5, 1.0, 'Overall Monthly trips')"
            ]
          },
          "metadata": {},
          "execution_count": 38
        },
        {
          "output_type": "display_data",
          "data": {
            "text/plain": [
              "<Figure size 720x504 with 1 Axes>"
            ],
            "image/png": "[encoded data removed]"
          },
          "metadata": {
            "needs_background": "light"
          }
        }
      ]
    },
    {
      "cell_type": "markdown",
      "source": [
        "- We've data of 6 months.\n",
        "\n",
        "- Number of trips in a particular month - March and April marking the highest.\n",
        "\n",
        "- January being lowest probably due to extreme SnowFall NYC."
      ],
      "metadata": {
        "id": "EErS7hlnMxCe"
      }
    },
    {
      "cell_type": "markdown",
      "source": [
        "# Bivariate Analysis with Target Variable"
      ],
      "metadata": {
        "id": "tMHb9JacM0AG"
      }
    },
    {
      "cell_type": "code",
      "source": [
        "# Trip Duration per Vendor estimator=np.mean\n",
        "sns.catplot(x=\"vendor_id\", y=\"trip_duration\",kind=\"strip\",data=df)"
      ],
      "metadata": {
        "colab": {
          "base_uri": "https://localhost:8080/",
          "height": 370
        },
        "id": "uLs2Bru_M1rE",
        "outputId": "21eecc8a-d346-48c4-d9b2-e5e6387ef2eb"
      },
      "execution_count": 39,
      "outputs": [
        {
          "output_type": "execute_result",
          "data": {
            "text/plain": [
              "<seaborn.axisgrid.FacetGrid at 0x7fecee22c3d0>"
            ]
          },
          "metadata": {},
          "execution_count": 39
        },
        {
          "output_type": "display_data",
          "data": {
            "text/plain": [
              "<Figure size 360x360 with 1 Axes>"
            ],
            "image/png": "[encoded data removed]"
          },
          "metadata": {
            "needs_background": "light"
          }
        }
      ]
    },
    {
      "cell_type": "markdown",
      "source": [
        "Vendor id 2 takes longer trips as compared to vendor 1."
      ],
      "metadata": {
        "id": "GZoVMGS2NHBw"
      }
    },
    {
      "cell_type": "code",
      "source": [
        "# Trip Duration per Store and Forward Flag\n",
        "sns.catplot(y='trip_duration',x='store_and_fwd_flag',data=df,kind='strip')"
      ],
      "metadata": {
        "colab": {
          "base_uri": "https://localhost:8080/",
          "height": 370
        },
        "id": "yVIsTdFCNE1k",
        "outputId": "f94a8e4b-bc96-4091-c537-177fe92e67e0"
      },
      "execution_count": 40,
      "outputs": [
        {
          "output_type": "execute_result",
          "data": {
            "text/plain": [
              "<seaborn.axisgrid.FacetGrid at 0x7fecee388450>"
            ]
          },
          "metadata": {},
          "execution_count": 40
        },
        {
          "output_type": "display_data",
          "data": {
            "text/plain": [
              "<Figure size 360x360 with 1 Axes>"
            ],
            "image/png": "[encoded data removed]"
          },
          "metadata": {
            "needs_background": "light"
          }
        }
      ]
    },
    {
      "cell_type": "markdown",
      "source": [
        "Trip duration is generally longer for trips whose flag was not stored."
      ],
      "metadata": {
        "id": "9aSWglpdNbZq"
      }
    },
    {
      "cell_type": "code",
      "source": [
        "# Trip Duration per hour\n",
        "sns.catplot(y='trip_duration',x='passenger_count',data=df,kind='strip')"
      ],
      "metadata": {
        "colab": {
          "base_uri": "https://localhost:8080/",
          "height": 370
        },
        "id": "Qp_T8i79NsIj",
        "outputId": "3c567f6b-9868-4add-acdb-46baace69de9"
      },
      "execution_count": 41,
      "outputs": [
        {
          "output_type": "execute_result",
          "data": {
            "text/plain": [
              "<seaborn.axisgrid.FacetGrid at 0x7fecedf1d310>"
            ]
          },
          "metadata": {},
          "execution_count": 41
        },
        {
          "output_type": "display_data",
          "data": {
            "text/plain": [
              "<Figure size 360x360 with 1 Axes>"
            ],
            "image/png": "[encoded data removed]"
          },
          "metadata": {
            "needs_background": "light"
          }
        }
      ]
    },
    {
      "cell_type": "markdown",
      "source": [
        "There is no visible relation between trip duration and passenger count."
      ],
      "metadata": {
        "id": "9kLFhomcNvK-"
      }
    },
    {
      "cell_type": "code",
      "source": [
        "# Trip Duration per time of day\n",
        "sns.lineplot(x='pickup_hour',y='trip_duration',data=df)"
      ],
      "metadata": {
        "colab": {
          "base_uri": "https://localhost:8080/",
          "height": 319
        },
        "id": "uYYCUjHON9tL",
        "outputId": "30d5eb0a-cc1f-4c82-b85b-eb870edf4c3d"
      },
      "execution_count": 42,
      "outputs": [
        {
          "output_type": "execute_result",
          "data": {
            "text/plain": [
              "<matplotlib.axes._subplots.AxesSubplot at 0x7fecefa76990>"
            ]
          },
          "metadata": {},
          "execution_count": 42
        },
        {
          "output_type": "display_data",
          "data": {
            "text/plain": [
              "<Figure size 432x288 with 1 Axes>"
            ],
            "image/png": "[encoded data removed]"
          },
          "metadata": {
            "needs_background": "light"
          }
        }
      ]
    },
    {
      "cell_type": "markdown",
      "source": [
        "We see the trip duration is the maximum around 3 pm which may be because of traffic on the roads.\n",
        "Trip duration is the lowest around 6 am as streets may not be busy."
      ],
      "metadata": {
        "id": "qD-tfmjIOAX5"
      }
    },
    {
      "cell_type": "code",
      "source": [
        "# Trip Duration per Day of Week\n",
        "sns.lineplot(x='pickup_weekday',y='trip_duration',data=df)"
      ],
      "metadata": {
        "id": "67XR8c8GOCIC"
      },
      "execution_count": null,
      "outputs": []
    },
    {
      "cell_type": "markdown",
      "source": [
        "Trip duration is the longest on Thursdays closely followed by Fridays."
      ],
      "metadata": {
        "id": "7VqiHpfyOOru"
      }
    },
    {
      "cell_type": "code",
      "source": [
        "# Trip Duration per month\n",
        "sns.lineplot(x='pickup_month',y='trip_duration',data=df)"
      ],
      "metadata": {
        "id": "UBtaIkK_OTEF"
      },
      "execution_count": null,
      "outputs": []
    },
    {
      "cell_type": "markdown",
      "source": [
        "From February, we can see trip duration rising every month."
      ],
      "metadata": {
        "id": "b5O9cFyNOgvh"
      }
    },
    {
      "cell_type": "code",
      "source": [
        "sns.relplot(y=df.distance,x='trip_duration',data=df)"
      ],
      "metadata": {
        "id": "3eBwEIhDOgHB"
      },
      "execution_count": null,
      "outputs": []
    },
    {
      "cell_type": "markdown",
      "source": [
        "We can see there are trips which trip duration as short as 0 seconds and yet covering a large distance. And, trips with 0 km distance and long trip durations.\n",
        "\n",
        "Let us see few rows whose distances are 0."
      ],
      "metadata": {
        "id": "UjurD7lVOk1f"
      }
    },
    {
      "cell_type": "code",
      "source": [
        "df[df['distance'] == 0].head()"
      ],
      "metadata": {
        "id": "YSphrRGuOpCO"
      },
      "execution_count": null,
      "outputs": []
    },
    {
      "cell_type": "markdown",
      "source": [
        "We can see even though distance is recorded as 0 but trip duration is definitely more.\n",
        "\n",
        "- One reason can be that the dropoff coordinates weren’t recorded.\n",
        "- Another reason one can think is that for short trip durations, maybe the passenger changed their mind and cancelled the ride after some time."
      ],
      "metadata": {
        "id": "Q23zXNewOtzg"
      }
    },
    {
      "cell_type": "markdown",
      "source": [
        "**Label Encoding**"
      ],
      "metadata": {
        "id": "k0mSe5I2Owj9"
      }
    },
    {
      "cell_type": "code",
      "source": [
        "#Label Encoding Features having Categorical Values\n",
        "\n",
        "from sklearn.preprocessing import LabelEncoder\n",
        "\n",
        "enc = LabelEncoder()\n",
        "df['store_and_fwd_flag'] = enc.fit_transform(df['store_and_fwd_flag'])\n",
        "df['vendor_id'] = enc.fit_transform(df['vendor_id'])"
      ],
      "metadata": {
        "id": "MfPQtJKnOyVg"
      },
      "execution_count": null,
      "outputs": []
    },
    {
      "cell_type": "markdown",
      "source": [
        "- Conversion of 'store_and_fwd_flag' and 'vendor_id' to be Label encoded as those are Categorical features , binarizing them will help us to compute them with ease.\n",
        "\n",
        "\n",
        "- We can convert these features into “category” type by function called “astype(‘category’)” that will speed up the Computation. Since, my plan is to go with PCA for dimension reduction, I’m not going with that approach."
      ],
      "metadata": {
        "id": "7Pg4IgmhO3Jg"
      }
    },
    {
      "cell_type": "code",
      "source": [
        "#Plotting Pearson Correlation heatmap\n",
        "\n",
        "plt.figure(figsize=(18,12))\n",
        "sns.heatmap(df.corr()*100, annot=True, cmap='inferno')\n",
        "plt.title('Correlation Plot')"
      ],
      "metadata": {
        "id": "L2FQvu__O1f2"
      },
      "execution_count": null,
      "outputs": []
    },
    {
      "cell_type": "code",
      "source": [
        "nyc_taxi_df = df.drop(['id','pickup_datetime','pickup_date','dropoff_datetime','distance'], axis=1)\n",
        "nyc_taxi_df.head()"
      ],
      "metadata": {
        "id": "ha1OddvGO76t"
      },
      "execution_count": null,
      "outputs": []
    },
    {
      "cell_type": "code",
      "source": [
        "nyc_taxi_df.shape"
      ],
      "metadata": {
        "id": "6ccMyoF6O-Ey"
      },
      "execution_count": null,
      "outputs": []
    },
    {
      "cell_type": "markdown",
      "source": [
        "# Normalization"
      ],
      "metadata": {
        "id": "45OKPxmpPAXv"
      }
    },
    {
      "cell_type": "code",
      "source": [
        "#Predictors and Target Variable\n",
        "\n",
        "X = nyc_taxi_df.drop(['trip_duration'], axis=1)\n",
        "y = np.log(nyc_taxi_df['trip_duration'])"
      ],
      "metadata": {
        "id": "JnxSL_2vPCIT"
      },
      "execution_count": null,
      "outputs": []
    },
    {
      "cell_type": "code",
      "source": [
        "# Normalising Predictors and creating new dataframe....................\n",
        "\n",
        "from sklearn.preprocessing import StandardScaler\n",
        "cols = X.columns\n",
        "print(cols)"
      ],
      "metadata": {
        "id": "ZCQI9t8OPEDL"
      },
      "execution_count": null,
      "outputs": []
    },
    {
      "cell_type": "code",
      "source": [
        "scaler = StandardScaler()\n",
        "print(scaler)"
      ],
      "metadata": {
        "id": "aiKjL1CcPGgb"
      },
      "execution_count": null,
      "outputs": []
    },
    {
      "cell_type": "code",
      "source": [
        "new_df = scaler.fit_transform(X)\n",
        "new_df.shape"
      ],
      "metadata": {
        "id": "J0XcNYzQPI1r"
      },
      "execution_count": null,
      "outputs": []
    },
    {
      "cell_type": "code",
      "source": [
        "new_df = pd.DataFrame(new_df, columns=cols)\n",
        "new_df.head()"
      ],
      "metadata": {
        "id": "id5ZHzkJPLIL"
      },
      "execution_count": null,
      "outputs": []
    },
    {
      "cell_type": "markdown",
      "source": [
        "Normalizing the Dataset using Standard Scaling Technique.\n",
        "\n",
        "\n",
        "Now, Why Standard Scaling ? Why not MinMax or Normalizer ?\n",
        "\n",
        "\n",
        "- It is because MinMax adjusts the value between 0’s and 1’s , which tend to work better for optimization techniques like Gradient descent and machine learning algorithms like KNN.\n",
        "\n",
        "\n",
        "- While, Normalizer uses distance measurement like Euclidean or Manhattan, so Normalizer tend to work better with KNN."
      ],
      "metadata": {
        "id": "aoLjpMWDPNFk"
      }
    },
    {
      "cell_type": "markdown",
      "source": [
        "# The First Approach - Decomposition using Principal Component Analysis (PCA)"
      ],
      "metadata": {
        "id": "O4ciSh2uPUS5"
      }
    },
    {
      "cell_type": "markdown",
      "source": [
        "- Now that we’re done, we have to pass our Scaled Dataframe in PCA model and observe the elbow plot to get better idea of explained variance.\n",
        "\n",
        "\n",
        "- We'll also go through a approach without using PCA in Second Part and Later compare results with PCA approach."
      ],
      "metadata": {
        "id": "c2NGkY7NPW3g"
      }
    },
    {
      "cell_type": "code",
      "source": [
        "X = new_df"
      ],
      "metadata": {
        "id": "rAOdn9bNPRx5"
      },
      "execution_count": null,
      "outputs": []
    },
    {
      "cell_type": "code",
      "source": [
        "#Applying PCA\n",
        "\n",
        "from sklearn.decomposition import PCA\n",
        "\n",
        "pca = PCA(n_components=len(nyc_taxi_df.columns)-1)\n",
        "pca.fit_transform(X)\n",
        "var_rat = pca.explained_variance_ratio_\n",
        "var_rat"
      ],
      "metadata": {
        "id": "32b5ITddPeKM"
      },
      "execution_count": null,
      "outputs": []
    },
    {
      "cell_type": "code",
      "source": [
        "#Variance Ratio vs PC plot\n",
        "\n",
        "plt.figure(figsize=(15,6))\n",
        "plt.bar(np.arange(pca.n_components_), pca.explained_variance_, color=\"grey\")"
      ],
      "metadata": {
        "id": "D-jf1IAwPgcV"
      },
      "execution_count": null,
      "outputs": []
    },
    {
      "cell_type": "markdown",
      "source": [
        "- At 12th component our PCA model seems to go Flat without explaining much of a Variance."
      ],
      "metadata": {
        "id": "lclhE-6iPkJR"
      }
    },
    {
      "cell_type": "code",
      "source": [
        "#Cumulative Variance Ratio\n",
        "\n",
        "plt.figure(figsize=(10,6))\n",
        "plt.plot(np.cumsum(var_rat)*100, color=\"g\", marker='o')\n",
        "plt.xlabel(\"Principal Components\")\n",
        "plt.ylabel(\"Cumulative Variance Ratio\")\n",
        "plt.title('Elbow Plot')"
      ],
      "metadata": {
        "id": "aZbm5kQePl5H"
      },
      "execution_count": null,
      "outputs": []
    },
    {
      "cell_type": "code",
      "source": [
        "#Applying PCA as per required components\n",
        "\n",
        "pca = PCA(n_components=12)\n",
        "transform = pca.fit_transform(X)\n",
        "pca.explained_variance_"
      ],
      "metadata": {
        "id": "YG8YM6s8PoZ7"
      },
      "execution_count": null,
      "outputs": []
    },
    {
      "cell_type": "markdown",
      "source": [
        "- Above , we had considered 12 as a required number of components and extracted new features by transforming the Data."
      ],
      "metadata": {
        "id": "dwcCL4dWPqPB"
      }
    },
    {
      "cell_type": "code",
      "source": [
        "#importance of features in Particular Principal Component\n",
        "\n",
        "plt.figure(figsize=(25,6))\n",
        "sns.heatmap(pca.components_, annot=True, cmap=\"winter\")\n",
        "plt.ylabel(\"Components\")\n",
        "plt.xlabel(\"Features\")\n",
        "plt.xticks(np.arange(len(X.columns)), X.columns, rotation=65)\n",
        "plt.title('Contribution of a Particular feature to our Principal Components')"
      ],
      "metadata": {
        "id": "rRhHOqMdPsQ6"
      },
      "execution_count": null,
      "outputs": []
    },
    {
      "cell_type": "markdown",
      "source": [
        "- Above plot gives us detailed idealogy of which feature has contributed more or less to our each Principal Component.\n",
        "\n",
        "\n",
        "- Pricipal Components are our new features which consists of Information from every other original Feature we have. \n",
        "\n",
        "\n",
        "- We reduce the Dimensions using PCA by retaining as much as Information possible. "
      ],
      "metadata": {
        "id": "hG3GauzYPusV"
      }
    },
    {
      "cell_type": "markdown",
      "source": [
        "# Splitting Data and Choosing Algorithms"
      ],
      "metadata": {
        "id": "ww3EZP5nPxbH"
      }
    },
    {
      "cell_type": "markdown",
      "source": [
        "- Let’s pass the PCA Transformed data in our Machine Learning Regression Algorithms. To begin with , Linear Regression is a good approach, by splitting our Data into Training and Testing (30%).\n",
        "\n",
        "\n",
        " - So, I want to approach from base model built using basic Linear Regression and then bring in more Sophisticated Algorithms - Decision Tree & Random Forest. It will give us good idea how Linear Regression performs against Decision Tree Regressor and Random Forest Regressor. Later, we will also approach with same algorithms on \"without PCA\" data. Finally, we'll evaluate both approaches we took and lay down recommended approach and algorithms."
      ],
      "metadata": {
        "id": "ZzbkQYgoPzWi"
      }
    },
    {
      "cell_type": "code",
      "source": [
        "#Passing in Transformed values as Predcitors\n",
        "\n",
        "X = transform\n",
        "y = np.log(nyc_taxi_df['trip_duration']).values"
      ],
      "metadata": {
        "id": "z7amK7ljPywc"
      },
      "execution_count": null,
      "outputs": []
    },
    {
      "cell_type": "markdown",
      "source": [
        "- RMSE as a evaluation Metrics , We can also hyper tune our Parameters to minimize the loss (RMSE)."
      ],
      "metadata": {
        "id": "mQZZbcDoP5pW"
      }
    },
    {
      "cell_type": "code",
      "source": [
        "#importing train test split & some important metrics\n",
        "\n",
        "from sklearn.model_selection import train_test_split, GridSearchCV, cross_val_score\n",
        "from sklearn.metrics import r2_score, mean_squared_log_error , mean_squared_error\n",
        "\n",
        "X_train, X_test, y_train, y_test = train_test_split(X, y, test_size=0.30, random_state=10)\n",
        "X_train.shape, X_test.shape, y_train.shape, y_test.shape"
      ],
      "metadata": {
        "id": "gzD_V2clP33q"
      },
      "execution_count": null,
      "outputs": []
    },
    {
      "cell_type": "markdown",
      "source": [
        "### Linear regression:\n",
        "\n",
        "- Simple to explain.\n",
        "\n",
        "\n",
        "- Model training and prediction are fast.\n",
        "\n",
        "\n",
        "- No tuning is required except regularization."
      ],
      "metadata": {
        "id": "KL3wH23xQAcI"
      }
    },
    {
      "cell_type": "code",
      "source": [
        "#implementing Linear regression\n",
        "\n",
        "from sklearn.linear_model import LinearRegression\n",
        "\n",
        "est_lr = LinearRegression()\n",
        "est_lr.fit(X_train, y_train)\n",
        "lr_pred = est_lr.predict(X_test)\n",
        "lr_pred"
      ],
      "metadata": {
        "id": "UHwQnBoQP_8g"
      },
      "execution_count": null,
      "outputs": []
    },
    {
      "cell_type": "code",
      "source": [
        "#coeficients & intercept\n",
        "\n",
        "est_lr.intercept_, est_lr.coef_"
      ],
      "metadata": {
        "id": "d4J44I83QFFy"
      },
      "execution_count": null,
      "outputs": []
    },
    {
      "cell_type": "markdown",
      "source": [
        "Interpreting the coefficients:\n",
        "\n",
        "Here we can see Increase and decrease order at each principal component in trip duration.\n",
        "\n",
        "**Note: The Units / Values can change everytime you run the model freshly.**"
      ],
      "metadata": {
        "id": "AsMiNEYuQHsn"
      }
    },
    {
      "cell_type": "code",
      "source": [
        "#examining scores\n",
        "\n",
        "print (\"Training Score : \" , est_lr.score(X_train, y_train))\n",
        "\n",
        "print (\"Validation Score : \", est_lr.score(X_test, y_test))\n",
        "\n",
        "print (\"Cross Validation Score : \" , cross_val_score(est_lr, X_train, y_train, cv=5).mean())\n",
        "\n",
        "print (\"R2_Score : \", r2_score(lr_pred, y_test))\n",
        "\n",
        "#print (\"RMSE : \", np.sqrt(mean_squared_log_error(lr_pred, y_test)))"
      ],
      "metadata": {
        "id": "3ud5DD_eQJnG"
      },
      "execution_count": null,
      "outputs": []
    },
    {
      "cell_type": "code",
      "source": [
        "#prediction vs real data\n",
        "\n",
        "plt.figure(figsize=(15,8))\n",
        "plt.subplot(1,1,1)\n",
        "sns.distplot(y_test, kde=False, color=\"grey\", label=\"Test\")\n",
        "\n",
        "plt.subplot(1,1,1)\n",
        "sns.distplot(lr_pred, kde=False, color=\"green\", label=\"Prediction\")\n",
        "plt.legend()\n",
        "plt.title(\"Test VS Prediction\")"
      ],
      "metadata": {
        "id": "6Tc-FHrtQLmn"
      },
      "execution_count": null,
      "outputs": []
    },
    {
      "cell_type": "markdown",
      "source": [
        "From the above Visualization . we can clearly identify that the Linear Regression isn't performing good. The Actual Data (in Grey) and Predicted values (in Green) are so much differing. We can conclude that Linear Regression doesn't seem like a right choice for Trip duration prediction."
      ],
      "metadata": {
        "id": "cRfZG1MaQPph"
      }
    },
    {
      "cell_type": "markdown",
      "source": [
        "### Decision Tree:\n",
        "\n",
        "- Decision trees are very intuitive and easy to explain.\n",
        "\n",
        "\n",
        "- They follow the same pattern of thinking that humans use when making decisions.\n",
        "\n",
        "\n",
        "- Decision trees are a common-sense technique to find the best solutions to problems with uncertainty."
      ],
      "metadata": {
        "id": "Fj08anogQRGp"
      }
    },
    {
      "cell_type": "code",
      "source": [
        "#implementation of decision tree\n",
        "\n",
        "from sklearn.tree import DecisionTreeRegressor\n",
        "\n",
        "est_dt = DecisionTreeRegressor(criterion=\"mse\", max_depth=10)\n",
        "est_dt.fit(X_train, y_train)\n",
        "dt_pred = est_dt.predict(X_test)\n",
        "dt_pred"
      ],
      "metadata": {
        "id": "S6Oqlqd4QOCE"
      },
      "execution_count": null,
      "outputs": []
    },
    {
      "cell_type": "code",
      "source": [
        "#examining metrics\n",
        "\n",
        "print (\"Training Score : \" , est_dt.score(X_train, y_train))\n",
        "\n",
        "print (\"Validation Score : \", est_dt.score(X_test, y_test))\n",
        "\n",
        "print (\"Cross Validation Score : \" , cross_val_score(est_dt, X_train, y_train, cv=5).mean())\n",
        "\n",
        "print (\"R2_Score : \", r2_score(dt_pred, y_test))\n",
        "\n",
        "print (\"RMSE : \", np.sqrt(mean_squared_log_error(dt_pred, y_test)))"
      ],
      "metadata": {
        "id": "cj_5sUPtQV5e"
      },
      "execution_count": null,
      "outputs": []
    },
    {
      "cell_type": "markdown",
      "source": [
        "- Our Goal is to reduce the value of loss function (RMSE) as much as possible."
      ],
      "metadata": {
        "id": "kFXy7sveQi4p"
      }
    },
    {
      "cell_type": "code",
      "source": [
        "#prediction vs real data\n",
        "\n",
        "plt.figure(figsize=(15,8))\n",
        "plt.subplot(1,1,1)\n",
        "sns.distplot(y_test, kde=False, color=\"grey\", label=\"Test\")\n",
        "\n",
        "plt.subplot(1,1,1)\n",
        "sns.distplot(dt_pred, kde=False, color=\"green\", label=\"Prediction\")\n",
        "plt.legend()\n",
        "plt.title(\"Test VS Prediction\")"
      ],
      "metadata": {
        "id": "oQQmmgLHQbub"
      },
      "execution_count": null,
      "outputs": []
    },
    {
      "cell_type": "markdown",
      "source": [
        "- From the above Visualization. we can clearly identify that the Decision Tree Algorithm is performing good. The Actual Data (in Grey) and Predicted values (in Green) are as close as possible. We can conclude that Decision Tree could be a good choice for Trip duration prediction."
      ],
      "metadata": {
        "id": "oQolhKlGoY-V"
      }
    },
    {
      "cell_type": "markdown",
      "source": [
        "### Random Forest:\n",
        "\n",
        "- It is one of the most accurate learning algorithms available.\n",
        "\n",
        "\n",
        "- Random Forest consisits of multiple Decision Tress - Results from multiple trees are then merged to give best possible final outcome.\n",
        "\n",
        "\n",
        "- Random forests overcome several problems with decision trees like Reduction in overfitting."
      ],
      "metadata": {
        "id": "bqKBcISGoar0"
      }
    },
    {
      "cell_type": "markdown",
      "source": [
        "- Now, Let us also try Random Forest on our Data and see what do we get."
      ],
      "metadata": {
        "id": "W23tFjVXoc4r"
      }
    },
    {
      "cell_type": "code",
      "source": [
        "#Random forest implementation\n",
        "\n",
        "from sklearn.ensemble import RandomForestRegressor\n",
        "\n",
        "est_rf = RandomForestRegressor(criterion=\"mse\", n_estimators=5, max_depth=10)\n",
        "est_rf.fit(X_train, y_train)\n",
        "rf_pred = est_rf.predict(X_test)\n",
        "rf_pred"
      ],
      "metadata": {
        "id": "64wUjml2oiHG"
      },
      "execution_count": null,
      "outputs": []
    },
    {
      "cell_type": "code",
      "source": [
        "#examining metrics \n",
        "\n",
        "print (\"Training Score : \" , est_rf.score(X_train, y_train))\n",
        "\n",
        "print (\"Validation Score : \", est_rf.score(X_test, y_test))\n",
        "\n",
        "print (\"Cross Validation Score : \" , cross_val_score(est_rf, X_train, y_train, cv=5).mean())\n",
        "\n",
        "print (\"R2_Score : \", r2_score(rf_pred, y_test))\n",
        "\n",
        "print (\"RMSE : \", np.sqrt(mean_squared_log_error(rf_pred, y_test)))"
      ],
      "metadata": {
        "id": "3Ye4Pr1womPd"
      },
      "execution_count": null,
      "outputs": []
    },
    {
      "cell_type": "code",
      "source": [
        "#prediction vs real data\n",
        "\n",
        "plt.figure(figsize=(15,8))\n",
        "plt.subplot(1,1,1)\n",
        "sns.distplot(y_test, kde=False, color=\"grey\", label=\"Test\")\n",
        "\n",
        "plt.subplot(1,1,1)\n",
        "sns.distplot(rf_pred, kde=False, color=\"green\", label=\"Prediction\")\n",
        "plt.legend()\n",
        "plt.title(\"Test VS Prediction\")"
      ],
      "metadata": {
        "id": "A4-23yJApAPD"
      },
      "execution_count": null,
      "outputs": []
    },
    {
      "cell_type": "markdown",
      "source": [
        "- From the above Viz. we can clearly identify that the Random Forest Algorithm is also performing good. The Actual Data (in Grey) and Predicted values (in Green) are as close as possible. We can conclude that Random Forest could be a good choice for Trip duration prediction.\n",
        "\n",
        "\n",
        "- Similarly, we can Hyper tune Random Forest to get the most out of it."
      ],
      "metadata": {
        "id": "NBl4iIDPqT7c"
      }
    },
    {
      "cell_type": "markdown",
      "source": [
        "# R2 Scores Evaluation"
      ],
      "metadata": {
        "id": "DdQn0Uj6qWCU"
      }
    },
    {
      "cell_type": "markdown",
      "source": [
        "- R2 Score or R-Squared is the proportion of the variance in the dependent variable that is predictable from the independent variable(s).\n",
        "\n",
        "\n",
        "- Best possible score is 1.0 and it can be negative (because the model can be arbitrarily worse). A constant model that always predicts the expected value of y, disregarding the input features, would get a R^2 score of 0.0. "
      ],
      "metadata": {
        "id": "WvV0O69KqYaS"
      }
    },
    {
      "cell_type": "code",
      "source": [
        "#r2 score plot for all 3 models\n",
        "\n",
        "plt.figure(figsize=(10,7))\n",
        "r2 = pd.DataFrame({'Scores':np.array([r2_score(lr_pred, y_test), r2_score(dt_pred, y_test), r2_score(rf_pred, y_test)]), 'Model':np.array(['Linear Regression', 'Decison Tree', 'Random Forest'])})\n",
        "r2.set_index('Model').plot(kind=\"bar\", color=\"brown\")\n",
        "plt.axhline(y=0, color='g')\n",
        "plt.title(\"R2 Scores\")"
      ],
      "metadata": {
        "id": "sV_o2WO6qaBK"
      },
      "execution_count": null,
      "outputs": []
    },
    {
      "cell_type": "markdown",
      "source": [
        "- Although , our Evaluation Metric isn't R2 Score but I'm just plotting them to check the Good Fit.\n",
        "\n",
        "\n",
        "- We're getting good fit score for Decision Tree and Random Forest , i.e, close to 1.0 "
      ],
      "metadata": {
        "id": "_2JhTWzOqb4D"
      }
    },
    {
      "cell_type": "markdown",
      "source": [
        "# RMSE Evaluation"
      ],
      "metadata": {
        "id": "VISqbw38qeE-"
      }
    },
    {
      "cell_type": "markdown",
      "source": [
        "-  RMSE is a measure of how spread out these residuals are. In other words, it tells you how concentrated the data is around the line of best fit.\n",
        "\n",
        "\n",
        "- With RMSE we explicitly know how much our predictions deviate.\n",
        "\n",
        "\n",
        "- Lower values of RMSE indicate better fit with lesser LOSS.\n",
        "\n",
        "![alt text](https://i.stack.imgur.com/952Ox.png)"
      ],
      "metadata": {
        "id": "DA473Eqxqf0F"
      }
    },
    {
      "cell_type": "code",
      "source": [
        "#RMSE plot\n",
        "\n",
        "plt.figure(figsize=(10,10))\n",
        "r2 = pd.DataFrame({'RMSE':np.array([np.sqrt(mean_squared_log_error(dt_pred, y_test)), np.sqrt(mean_squared_log_error(rf_pred, y_test))]), 'Model':np.array(['Decison Tree', 'Random Forest'])})\n",
        "r2.set_index('Model').plot(kind=\"bar\", color=\"lightblue\", legend=False)\n",
        "plt.title(\"RMSE - Lesser is Better\")"
      ],
      "metadata": {
        "id": "grG6X-i-qhvy"
      },
      "execution_count": null,
      "outputs": []
    },
    {
      "cell_type": "markdown",
      "source": [
        "- We can observe from above Viz. that our Decision Tree model and Random Forest model are good performers. As, Random Forest is providing us reduced RMSE, we can say that it's a model to Opt for."
      ],
      "metadata": {
        "id": "thWKp2miqjvU"
      }
    },
    {
      "cell_type": "markdown",
      "source": [
        "# The Second Approach - Without PCA"
      ],
      "metadata": {
        "id": "as_U5IOjqmCD"
      }
    },
    {
      "cell_type": "markdown",
      "source": [
        "- Another approach we could go with is without PCA, just Standard Scaling Dataset and applying our Algorithms.\n",
        "\n",
        "\n",
        "- The approach can give us better idea of what works better for us.\n",
        "\n",
        "\n",
        "- This approach might take great amount of computational resources and time, it will be good if we can run this on Google’s Collaboratory, that will eliminate huge computational stress on our system as the program will be running on Cloud."
      ],
      "metadata": {
        "id": "t-v7187hqoFj"
      }
    },
    {
      "cell_type": "code",
      "source": [
        "X = new_df\n",
        "y = np.log(nyc_taxi_df['trip_duration']).values"
      ],
      "metadata": {
        "id": "019_OlzRqtYO"
      },
      "execution_count": null,
      "outputs": []
    },
    {
      "cell_type": "markdown",
      "source": [
        "# Linear Regression"
      ],
      "metadata": {
        "id": "_bWdSdb6qvib"
      }
    },
    {
      "cell_type": "code",
      "source": [
        "#train test split\n",
        "\n",
        "from sklearn.model_selection import train_test_split, GridSearchCV, cross_val_score\n",
        "from sklearn.metrics import r2_score, mean_squared_log_error , mean_squared_error\n",
        "\n",
        "X_train, X_test, y_train, y_test = train_test_split(X, y, test_size=0.30, random_state=10)\n",
        "X_train.shape, X_test.shape, y_train.shape, y_test.shape"
      ],
      "metadata": {
        "id": "R5K45pzLqy1r"
      },
      "execution_count": null,
      "outputs": []
    },
    {
      "cell_type": "code",
      "source": [
        "#implenting linear regression\n",
        "\n",
        "from sklearn.linear_model import LinearRegression\n",
        "\n",
        "est_lr = LinearRegression()\n",
        "est_lr.fit(X_train, y_train)\n",
        "lr_pred = est_lr.predict(X_test)\n",
        "lr_pred"
      ],
      "metadata": {
        "id": "Wz3oNojzq07y"
      },
      "execution_count": null,
      "outputs": []
    },
    {
      "cell_type": "code",
      "source": [
        "#Intercept & Coef\n",
        "\n",
        "est_lr.intercept_, est_lr.coef_"
      ],
      "metadata": {
        "id": "FCHwov3oq3Fs"
      },
      "execution_count": null,
      "outputs": []
    },
    {
      "cell_type": "code",
      "source": [
        "#Examining metrics\n",
        "\n",
        "print (\"Training Score : \" , est_lr.score(X_train, y_train))\n",
        "\n",
        "print (\"Validation Score : \", est_lr.score(X_test, y_test))\n",
        "\n",
        "print (\"Cross Validation Score : \" , cross_val_score(est_lr, X_train, y_train, cv=5).mean())\n",
        "\n",
        "print (\"R2_Score : \", r2_score(lr_pred, y_test))\n",
        "\n",
        "#print (\"RMSE : \", np.sqrt(mean_squared_log_error(lr_pred, y_test)))"
      ],
      "metadata": {
        "id": "MKyuDGAFq5Ca"
      },
      "execution_count": null,
      "outputs": []
    },
    {
      "cell_type": "code",
      "source": [
        "#prediction vs validation data\n",
        "\n",
        "plt.figure(figsize=(15,8))\n",
        "plt.subplot(1,1,1)\n",
        "sns.distplot(y_test, kde=False, color=\"grey\", label=\"Test\")\n",
        "\n",
        "plt.subplot(1,1,1)\n",
        "sns.distplot(lr_pred, kde=False, color=\"green\", label=\"Prediction\")\n",
        "plt.legend()\n",
        "plt.title(\"Test VS Prediction\")"
      ],
      "metadata": {
        "id": "sI-C4M2frFxj"
      },
      "execution_count": null,
      "outputs": []
    },
    {
      "cell_type": "markdown",
      "source": [
        "- Observations shows us that Linear Regression isn't performing well even."
      ],
      "metadata": {
        "id": "iNxyg83qrIIw"
      }
    },
    {
      "cell_type": "markdown",
      "source": [
        "# Decision Tree"
      ],
      "metadata": {
        "id": "X8KMkRKjrKtj"
      }
    },
    {
      "cell_type": "code",
      "source": [
        "#Decision tree implementation\n",
        "\n",
        "from sklearn.tree import DecisionTreeRegressor\n",
        "\n",
        "\n",
        "est_dt = DecisionTreeRegressor(criterion=\"mse\", max_depth=10)\n",
        "est_dt.fit(X_train, y_train)\n",
        "dt_pred = est_dt.predict(X_test)\n",
        "dt_pred"
      ],
      "metadata": {
        "id": "C6rEsGiFrMRP"
      },
      "execution_count": null,
      "outputs": []
    },
    {
      "cell_type": "code",
      "source": [
        "#Examining metrics\n",
        "\n",
        "print (\"Training Score : \" , est_dt.score(X_train, y_train))\n",
        "\n",
        "print (\"Validation Score : \", est_dt.score(X_test, y_test))\n",
        "\n",
        "print (\"Cross Validation Score : \" , cross_val_score(est_dt, X_train, y_train, cv=5).mean())\n",
        "\n",
        "print (\"R2_Score : \", r2_score(dt_pred, y_test))\n",
        "\n",
        "print (\"RMSE : \", np.sqrt(mean_squared_log_error(dt_pred, y_test)))"
      ],
      "metadata": {
        "id": "jbaMT88jrOO8"
      },
      "execution_count": null,
      "outputs": []
    },
    {
      "cell_type": "markdown",
      "source": [
        "- This time our decision tree model is not trained well as we can identify from scores, training score and cross validation score is close to 0.45 compared to last model where it was around 0.91."
      ],
      "metadata": {
        "id": "Xj97_DKYrQKO"
      }
    },
    {
      "cell_type": "code",
      "source": [
        "#prediction vs reality check\n",
        "\n",
        "plt.figure(figsize=(15,8))\n",
        "plt.subplot(1,1,1)\n",
        "sns.distplot(y_test, kde=False, color=\"grey\", label=\"Test\")\n",
        "\n",
        "plt.subplot(1,1,1)\n",
        "sns.distplot(dt_pred, kde=False, color=\"green\", label=\"Prediction\")\n",
        "plt.legend()\n",
        "plt.title(\"Test VS Prediction\")"
      ],
      "metadata": {
        "id": "7JUTNwQXrSXE"
      },
      "execution_count": null,
      "outputs": []
    },
    {
      "cell_type": "markdown",
      "source": [
        "- This model gave us loss of 0.0885, we can say it is good but not the acceptable, knowing the fact that we got RMSE of 0.038 in previous approach where we applied PCA."
      ],
      "metadata": {
        "id": "gE8DWcnnrVve"
      }
    },
    {
      "cell_type": "markdown",
      "source": [
        "#Decision Tree with Hyperparameter tuning\n"
      ],
      "metadata": {
        "id": "5oMDfN1ZrYRk"
      }
    },
    {
      "cell_type": "code",
      "source": [
        "params = {'max_depth':[10,11,12,None], \"min_samples_split\":[2,3,4,5], 'max_features':[2,5,7,10]}\n",
        "\n",
        "grid = GridSearchCV(est_dt, params, cv=5)\n",
        "grid.fit(X_train, y_train)\n",
        "grid_pred = grid.predict(X_test)\n",
        "print (grid_pred)\n",
        "grid.best_params_"
      ],
      "metadata": {
        "id": "ZTqg6LRxraaD"
      },
      "execution_count": null,
      "outputs": []
    },
    {
      "cell_type": "code",
      "source": [
        "print (\"Training Score : \" , grid.score(X_train, y_train))\n",
        "\n",
        "print (\"Validation Score : \", grid.score(X_test, y_test))\n",
        "\n",
        "print (\"R2_Score after parameter tuning : \", r2_score(grid_pred, y_test))\n",
        "\n",
        "print (\"RMSE after parameter tuning : \", np.sqrt(mean_squared_log_error(grid_pred, y_test)))"
      ],
      "metadata": {
        "id": "BUTbN4xwrcLB"
      },
      "execution_count": null,
      "outputs": []
    },
    {
      "cell_type": "markdown",
      "source": [
        "- This model gave us loss of 0.0857 as compare to Decision Tree model without model it gave 0.0885 a slight difference."
      ],
      "metadata": {
        "id": "mt-YlN1Urdra"
      }
    },
    {
      "cell_type": "code",
      "source": [
        "#prediction vs reality check\n",
        "\n",
        "plt.figure(figsize=(15,8))\n",
        "plt.subplot(1,1,1)\n",
        "sns.distplot(y_test, kde=False, color=\"black\", label=\"Test\")\n",
        "\n",
        "plt.subplot(1,1,1)\n",
        "sns.distplot(grid_pred, kde=False, color=\"cyan\", label=\"Prediction\")\n",
        "plt.legend()\n",
        "plt.title(\"Test VS Prediction\")"
      ],
      "metadata": {
        "id": "gzpnu5I_rfSW"
      },
      "execution_count": null,
      "outputs": []
    },
    {
      "cell_type": "markdown",
      "source": [
        "# Random Forest"
      ],
      "metadata": {
        "id": "urWZYIBmrhNn"
      }
    },
    {
      "cell_type": "code",
      "source": [
        "#implementation of forest algorithm\n",
        "\n",
        "from sklearn.ensemble import RandomForestRegressor\n",
        "\n",
        "est_rf = RandomForestRegressor(criterion=\"mse\", n_estimators=5, max_depth=10)\n",
        "est_rf.fit(X_train, y_train)\n",
        "rf_pred = est_rf.predict(X_test)\n",
        "rf_pred"
      ],
      "metadata": {
        "id": "tZoVxo_NrjJR"
      },
      "execution_count": null,
      "outputs": []
    },
    {
      "cell_type": "code",
      "source": [
        "#examining metrics\n",
        "\n",
        "print (\"Training Score : \" , est_rf.score(X_train, y_train))\n",
        "\n",
        "print (\"Validation Score : \", est_rf.score(X_test, y_test))\n",
        "\n",
        "print (\"Cross Validation Score : \" , cross_val_score(est_rf, X_train, y_train, cv=5).mean())\n",
        "\n",
        "print (\"R2_Score : \", r2_score(rf_pred, y_test))\n",
        "\n",
        "print (\"RMSE : \", np.sqrt(mean_squared_log_error(rf_pred, y_test)))"
      ],
      "metadata": {
        "id": "b7HgpfgWrpTV"
      },
      "execution_count": null,
      "outputs": []
    },
    {
      "cell_type": "code",
      "source": [
        "#prediction vs reality check\n",
        "\n",
        "plt.figure(figsize=(15,8))\n",
        "plt.subplot(1,1,1)\n",
        "sns.distplot(y_test, kde=False, color=\"grey\", label=\"Test\")\n",
        "\n",
        "plt.subplot(1,1,1)\n",
        "sns.distplot(rf_pred, kde=False, color=\"green\", label=\"Prediction\")\n",
        "plt.legend()\n",
        "plt.title(\"Test VS Prediction\")"
      ],
      "metadata": {
        "id": "sK_eLksnYYZW"
      },
      "execution_count": null,
      "outputs": []
    },
    {
      "cell_type": "markdown",
      "source": [
        "- Again the loss value we got here is 0.0874 is good when tried to match with Decision Tree's RMSE ,i.e, 0.0885."
      ],
      "metadata": {
        "id": "WK3HaC4KYbgm"
      }
    },
    {
      "cell_type": "code",
      "source": [
        "#r2 score plot for all 3 models\n",
        "\n",
        "plt.figure(figsize=(10,9))\n",
        "r2 = pd.DataFrame({'Scores':np.array([r2_score(lr_pred, y_test), r2_score(dt_pred, y_test), r2_score(rf_pred, y_test),r2_score(grid_pred, y_test)]), 'Model':np.array(['Linear Regression', 'Decison Tree', 'Random Forest','Decison Tree GS'])})\n",
        "r2.set_index('Model').plot(kind=\"bar\", color=\"maroon\")\n",
        "plt.axhline(y=0, color='g')\n",
        "plt.title(\"R2 Scores\")"
      ],
      "metadata": {
        "id": "_GEaiQplYdTl"
      },
      "execution_count": null,
      "outputs": []
    },
    {
      "cell_type": "code",
      "source": [
        "#RMSE plot\n",
        "\n",
        "plt.figure(figsize=(8,7))\n",
        "r2 = pd.DataFrame({'RMSE':np.array([np.sqrt(mean_squared_log_error(dt_pred, y_test)), np.sqrt(mean_squared_log_error(rf_pred, y_test)),np.sqrt(mean_squared_log_error(grid_pred, y_test))]), 'Model':np.array(['Decison Tree', 'Random Forest','Decision Tree GS'])})\n",
        "r2.set_index('Model').plot(kind=\"bar\", color=\"skyblue\", legend=False)\n",
        "plt.title(\"RMSE - Lesser is Better\")"
      ],
      "metadata": {
        "id": "-qYmEDpDYiW4"
      },
      "execution_count": null,
      "outputs": []
    },
    {
      "cell_type": "markdown",
      "source": [
        "Here Decision Tree with GridsearchCV is Lesser."
      ],
      "metadata": {
        "id": "wXztZw2pYkPh"
      }
    },
    {
      "cell_type": "markdown",
      "source": [
        "# What's better - Decision Tree or Random Forest ?"
      ],
      "metadata": {
        "id": "IJtEf_qYYnIb"
      }
    },
    {
      "cell_type": "markdown",
      "source": [
        "- One problem that might occur with Decision Tree is that it can overfit.\n",
        "\n",
        "\n",
        "- Difference is - A random forest is a collection of decision trees.\n",
        "\n",
        "\n",
        "- A decision tree model considers all the features which makes it memorize everything, it gets overfitted on training data which couldn't predict well on unseen data.\n",
        "\n",
        "\n",
        "- A random forest chooses few number of rows at random and interprets results from all the Tress and combines it to get more accurate and stable final result."
      ],
      "metadata": {
        "id": "PSy5T7BvYo-v"
      }
    },
    {
      "cell_type": "markdown",
      "source": [
        "# Insights:\n",
        "\n",
        "- Observed which taxi service provider is most Frequently used by New Yorkers.\n",
        "\n",
        "\n",
        "- Found out few trips which were of duration 528 Hours to 972 Hours, possibly Outliers.\n",
        "\n",
        "\n",
        "- Passenger count Analysis showed us that there were few trips with Zero Passengers and One trip with 7,8 and 9 passengers.\n",
        "\n",
        "\n",
        "- Monthly trip analysis gives us a insight of Month – March and April marking the highest number of Trips while January marking lowest, possibly due to Snowfall."
      ],
      "metadata": {
        "id": "6byDtHo6YrGk"
      }
    },
    {
      "cell_type": "markdown",
      "source": [
        "# Recommended Approach:\n",
        "\n",
        "- Apply Standard Scaling on the Dataset to Normalize the values.\n",
        "\n",
        "\n",
        "- Further, Apply PCA to reduce dimensions, as you’ll extract features from our primary DateTime Feature. Those additional features might lead our model to suffer from **“Curse of dimensionality”** and could drastically affect performance.\n",
        "\n",
        "\n",
        "- Pass the PCA Transformed data in our ML Regression Algorithms and Evaluate results.\n",
        "\n",
        "# Also we can try this Approach\n",
        "\n",
        "- Also when we can use IQR finding and removing outlier technique and then apply hyperparameter technique it will give us best result.\n",
        "\n",
        "\n",
        "- We can perform hyper tuning on our Algorithm to get the most out of it but Hyper Tuning consume lot of time and resources of the system depending upon the how big the Data we have and what algorithm we're using. It will go through number of Iterations and try to come up with the best possible value for us. "
      ],
      "metadata": {
        "id": "cR9i6aoEYved"
      }
    }
  ]
}